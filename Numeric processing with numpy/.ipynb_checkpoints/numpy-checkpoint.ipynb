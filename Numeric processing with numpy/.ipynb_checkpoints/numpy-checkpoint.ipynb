{
 "cells": [
  {
   "cell_type": "markdown",
   "metadata": {},
   "source": [
    "# Numpy tutorial"
   ]
  },
  {
   "cell_type": "code",
   "execution_count": 1,
   "metadata": {},
   "outputs": [],
   "source": [
    "import numpy as np\n",
    "from numpy import *"
   ]
  },
  {
   "cell_type": "code",
   "execution_count": 2,
   "metadata": {},
   "outputs": [
    {
     "name": "stdout",
     "output_type": "stream",
     "text": [
      "1.16.3\n"
     ]
    }
   ],
   "source": [
    "print(np.__version__) # version of numpy"
   ]
  },
  {
   "cell_type": "code",
   "execution_count": 3,
   "metadata": {},
   "outputs": [
    {
     "data": {
      "text/plain": [
       "array([0., 0., 0., 0., 0., 0., 0., 0., 0., 0.])"
      ]
     },
     "execution_count": 3,
     "metadata": {},
     "output_type": "execute_result"
    }
   ],
   "source": [
    "z = np.zeros(10) # make array of size 10 with all elements 0.\n",
    "z"
   ]
  },
  {
   "cell_type": "code",
   "execution_count": 4,
   "metadata": {},
   "outputs": [
    {
     "data": {
      "text/plain": [
       "(10,)"
      ]
     },
     "execution_count": 4,
     "metadata": {},
     "output_type": "execute_result"
    }
   ],
   "source": [
    "z.shape # show toe dimensional shape of aarray"
   ]
  },
  {
   "cell_type": "code",
   "execution_count": 5,
   "metadata": {},
   "outputs": [
    {
     "data": {
      "text/plain": [
       "array([1., 1., 1., 1., 1., 1., 1., 1., 1., 1.])"
      ]
     },
     "execution_count": 5,
     "metadata": {},
     "output_type": "execute_result"
    }
   ],
   "source": [
    "z = np.ones(10) # make array of size 10 with all elements 1.\n",
    "z "
   ]
  },
  {
   "cell_type": "code",
   "execution_count": 6,
   "metadata": {},
   "outputs": [
    {
     "data": {
      "text/plain": [
       "array([[1, 1, 1, 1, 1],\n",
       "       [1, 1, 1, 1, 1],\n",
       "       [1, 1, 1, 1, 1],\n",
       "       [1, 1, 1, 1, 1]], dtype=int64)"
      ]
     },
     "execution_count": 6,
     "metadata": {},
     "output_type": "execute_result"
    }
   ],
   "source": [
    "z = np.ones((4,5),dtype=\"int64\") # make array of size 4,5 with all elements 1 and dtype will int64\n",
    "z "
   ]
  },
  {
   "cell_type": "code",
   "execution_count": 7,
   "metadata": {},
   "outputs": [
    {
     "data": {
      "text/plain": [
       "(4, 5)"
      ]
     },
     "execution_count": 7,
     "metadata": {},
     "output_type": "execute_result"
    }
   ],
   "source": [
    "z.shape"
   ]
  },
  {
   "cell_type": "code",
   "execution_count": 8,
   "metadata": {},
   "outputs": [
    {
     "data": {
      "text/plain": [
       "array([[1, 0, 0, 0],\n",
       "       [0, 1, 0, 0],\n",
       "       [0, 0, 1, 0],\n",
       "       [0, 0, 0, 1]])"
      ]
     },
     "execution_count": 8,
     "metadata": {},
     "output_type": "execute_result"
    }
   ],
   "source": [
    "# idential metrix is square matrix where only diagonal elements will 1. it create one dimensional array matrix.\n",
    "z = np.identity(4,dtype=\"int\") # 4 means 4x4\n",
    "z"
   ]
  },
  {
   "cell_type": "code",
   "execution_count": 9,
   "metadata": {},
   "outputs": [
    {
     "name": "stdout",
     "output_type": "stream",
     "text": [
      "[[1. 0. 0. 0.]\n",
      " [0. 1. 0. 0.]\n",
      " [0. 0. 1. 0.]\n",
      " [0. 0. 0. 1.]] \n",
      "\n"
     ]
    }
   ],
   "source": [
    "# eye matrix is matrix where only diagonal elements will 1. it can provide 2 dimensional matrix array too.\n",
    "z = np.eye(4) # generate 4x4 array matrix like identity\n",
    "print(z,\"\\n\")"
   ]
  },
  {
   "cell_type": "code",
   "execution_count": 10,
   "metadata": {},
   "outputs": [
    {
     "name": "stdout",
     "output_type": "stream",
     "text": [
      "[[1. 0. 0. 0. 0. 0.]\n",
      " [0. 1. 0. 0. 0. 0.]\n",
      " [0. 0. 1. 0. 0. 0.]\n",
      " [0. 0. 0. 1. 0. 0.]] \n",
      "\n"
     ]
    }
   ],
   "source": [
    "z = np.eye(4,6) # generate 4x6 array matrix like identity\n",
    "print(z,\"\\n\")"
   ]
  },
  {
   "cell_type": "code",
   "execution_count": 11,
   "metadata": {},
   "outputs": [
    {
     "data": {
      "text/plain": [
       "array([[0., 0., 1., 0., 0., 0.],\n",
       "       [0., 0., 0., 1., 0., 0.],\n",
       "       [0., 0., 0., 0., 1., 0.],\n",
       "       [0., 0., 0., 0., 0., 1.]])"
      ]
     },
     "execution_count": 11,
     "metadata": {},
     "output_type": "execute_result"
    }
   ],
   "source": [
    "z = np.eye(4,6,k = 2) # generate 4x6 array matrix like identity but leave 2 columns and then start 1 diag.\n",
    "# or \n",
    "z = np.eye(4,6,2) # generate 4x6 array matrix like identity but leave 2 columns and then start 1 diag.\n",
    "z"
   ]
  },
  {
   "cell_type": "code",
   "execution_count": 12,
   "metadata": {},
   "outputs": [
    {
     "data": {
      "text/plain": [
       "array([[0., 0., 0., 0., 0., 0.],\n",
       "       [0., 0., 0., 0., 0., 0.],\n",
       "       [1., 0., 0., 0., 0., 0.],\n",
       "       [0., 1., 0., 0., 0., 0.]])"
      ]
     },
     "execution_count": 12,
     "metadata": {},
     "output_type": "execute_result"
    }
   ],
   "source": [
    "# 3rd parameter will negative if we want to specify rows to leave before starting 1 for diagonal elements\n",
    "z = np.eye(4,6,k = -2) # generate 4x6 array matrix like identity but leave 2 rows and then start 1 diag.\n",
    "# or \n",
    "z = np.eye(4,6,-2) # generate 4x6 array matrix like identity but leave 2 rows and then start 1 diag.\n",
    "z"
   ]
  },
  {
   "cell_type": "code",
   "execution_count": 13,
   "metadata": {},
   "outputs": [
    {
     "data": {
      "text/plain": [
       "array([[0., 3., 0.],\n",
       "       [3., 0., 3.],\n",
       "       [0., 3., 0.],\n",
       "       [0., 0., 3.]])"
      ]
     },
     "execution_count": 13,
     "metadata": {},
     "output_type": "execute_result"
    }
   ],
   "source": [
    "A = 3.0 * (np.eye(4,3,1) + np.eye(4,3,-1)) # change diagonal from 1 to 3 and sum of two eyes\n",
    "A"
   ]
  },
  {
   "cell_type": "code",
   "execution_count": 14,
   "metadata": {},
   "outputs": [
    {
     "name": "stdout",
     "output_type": "stream",
     "text": [
      "A = \n",
      "[[0. 3. 0.]\n",
      " [3. 0. 3.]\n",
      " [0. 3. 0.]\n",
      " [0. 0. 3.]]\n"
     ]
    }
   ],
   "source": [
    "print(\"A = \\n{0}\".format(A))"
   ]
  },
  {
   "cell_type": "code",
   "execution_count": 15,
   "metadata": {},
   "outputs": [
    {
     "data": {
      "text/plain": [
       "array([0., 3., 0., 3., 0., 3., 0., 3., 0., 0., 0., 3.])"
      ]
     },
     "execution_count": 15,
     "metadata": {},
     "output_type": "execute_result"
    }
   ],
   "source": [
    "A.flatten() # make array flat"
   ]
  },
  {
   "cell_type": "code",
   "execution_count": 16,
   "metadata": {},
   "outputs": [
    {
     "data": {
      "text/plain": [
       "(12,)"
      ]
     },
     "execution_count": 16,
     "metadata": {},
     "output_type": "execute_result"
    }
   ],
   "source": [
    "A.flatten().shape # make array flat"
   ]
  },
  {
   "cell_type": "code",
   "execution_count": 17,
   "metadata": {},
   "outputs": [
    {
     "data": {
      "text/plain": [
       "matrix([[ 4,  5,  6],\n",
       "        [ 6,  7, 77],\n",
       "        [77, 45,  3]])"
      ]
     },
     "execution_count": 17,
     "metadata": {},
     "output_type": "execute_result"
    }
   ],
   "source": [
    "A = [4,5,6,6,7,77,77,45,3,]\n",
    "A = matrix(A).reshape(3,3) # making matrix with specified shape\n",
    "A"
   ]
  },
  {
   "cell_type": "code",
   "execution_count": 18,
   "metadata": {},
   "outputs": [
    {
     "data": {
      "text/plain": [
       "matrix([[1, 3, 2],\n",
       "        [4, 3, 5],\n",
       "        [6, 5, 4]])"
      ]
     },
     "execution_count": 18,
     "metadata": {},
     "output_type": "execute_result"
    }
   ],
   "source": [
    "B = matrix([[1,3,2],[4,3,5],[6,5,4]])\n",
    "B"
   ]
  },
  {
   "cell_type": "code",
   "execution_count": 19,
   "metadata": {},
   "outputs": [
    {
     "data": {
      "text/plain": [
       "matrix([[ 60,  57,  57],\n",
       "        [496, 424, 355],\n",
       "        [275, 381, 391]])"
      ]
     },
     "execution_count": 19,
     "metadata": {},
     "output_type": "execute_result"
    }
   ],
   "source": [
    "A * B # matrix multiplication"
   ]
  },
  {
   "cell_type": "markdown",
   "metadata": {},
   "source": [
    "#### another way to create matrix"
   ]
  },
  {
   "cell_type": "code",
   "execution_count": 20,
   "metadata": {},
   "outputs": [
    {
     "data": {
      "text/plain": [
       "matrix([[2, 3, 4],\n",
       "        [4, 5, 6],\n",
       "        [8, 7, 5]])"
      ]
     },
     "execution_count": 20,
     "metadata": {},
     "output_type": "execute_result"
    }
   ],
   "source": [
    "A = matrix('2 3 4;4 5 6;8 7 5') # space for next element and ; for new row\n",
    "A"
   ]
  },
  {
   "cell_type": "code",
   "execution_count": 21,
   "metadata": {},
   "outputs": [
    {
     "data": {
      "text/plain": [
       "matrix([[2, 5, 5]])"
      ]
     },
     "execution_count": 21,
     "metadata": {},
     "output_type": "execute_result"
    }
   ],
   "source": [
    "A.diagonal() # to get all diagonal elements of A"
   ]
  },
  {
   "cell_type": "code",
   "execution_count": 22,
   "metadata": {},
   "outputs": [
    {
     "data": {
      "text/plain": [
       "array([0.00000000e+000, 2.12199579e-314, 8.28904606e-317])"
      ]
     },
     "execution_count": 22,
     "metadata": {},
     "output_type": "execute_result"
    }
   ],
   "source": [
    "z = np.empty(3) # make array of size 10 with all elements 0.\n",
    "z"
   ]
  },
  {
   "cell_type": "markdown",
   "metadata": {},
   "source": [
    "#### comparison variation because of heap memory and different memory allocation...."
   ]
  },
  {
   "cell_type": "code",
   "execution_count": 23,
   "metadata": {},
   "outputs": [
    {
     "name": "stdout",
     "output_type": "stream",
     "text": [
      "np.zeros(3) is np.zeros(3) :  False\n"
     ]
    }
   ],
   "source": [
    "print(\"np.zeros(3) is np.zeros(3) : \",np.zeros(3) is np.zeros(3)) # not at same memory"
   ]
  },
  {
   "cell_type": "code",
   "execution_count": 24,
   "metadata": {},
   "outputs": [
    {
     "name": "stdout",
     "output_type": "stream",
     "text": [
      "np.zeros(3) is np.empty(3) :  False\n"
     ]
    }
   ],
   "source": [
    "print(\"np.zeros(3) is np.empty(3) : \",np.zeros(3) is np.empty(3)) # not at same memory"
   ]
  },
  {
   "cell_type": "code",
   "execution_count": 25,
   "metadata": {},
   "outputs": [
    {
     "name": "stdout",
     "output_type": "stream",
     "text": [
      "np.zeros(3) == np.empty(3) :  [ True  True  True]\n"
     ]
    }
   ],
   "source": [
    "print(\"np.zeros(3) == np.empty(3) : \",np.zeros(3) == np.empty(3)) # return values comparison not array"
   ]
  },
  {
   "cell_type": "markdown",
   "metadata": {},
   "source": [
    "#### get zeros and ones matrix with specified shape"
   ]
  },
  {
   "cell_type": "code",
   "execution_count": 26,
   "metadata": {},
   "outputs": [
    {
     "data": {
      "text/plain": [
       "array([[1., 1., 1., 1.],\n",
       "       [1., 1., 1., 1.],\n",
       "       [1., 1., 1., 1.]])"
      ]
     },
     "execution_count": 26,
     "metadata": {},
     "output_type": "execute_result"
    }
   ],
   "source": [
    "np.ones((3,4)) # 3 rows, 4 columns"
   ]
  },
  {
   "cell_type": "code",
   "execution_count": 27,
   "metadata": {},
   "outputs": [
    {
     "data": {
      "text/plain": [
       "array([[[0., 0., 0.],\n",
       "        [0., 0., 0.]],\n",
       "\n",
       "       [[0., 0., 0.],\n",
       "        [0., 0., 0.]],\n",
       "\n",
       "       [[0., 0., 0.],\n",
       "        [0., 0., 0.]],\n",
       "\n",
       "       [[0., 0., 0.],\n",
       "        [0., 0., 0.]],\n",
       "\n",
       "       [[0., 0., 0.],\n",
       "        [0., 0., 0.]]])"
      ]
     },
     "execution_count": 27,
     "metadata": {},
     "output_type": "execute_result"
    }
   ],
   "source": [
    "np.zeros((5,2,3)) # matrix of 5 matrices where each has 2 rows and 3 columns"
   ]
  },
  {
   "cell_type": "code",
   "execution_count": 28,
   "metadata": {},
   "outputs": [
    {
     "name": "stdout",
     "output_type": "stream",
     "text": [
      "<class 'numpy.float64'>\n"
     ]
    }
   ],
   "source": [
    "print(type(np.zeros(6)[3])) # default type of every zeros and ones will float64"
   ]
  },
  {
   "cell_type": "code",
   "execution_count": 29,
   "metadata": {},
   "outputs": [
    {
     "name": "stdout",
     "output_type": "stream",
     "text": [
      "<class 'numpy.int64'>\n"
     ]
    }
   ],
   "source": [
    "print(type(np.zeros(6,dtype='int64')[3])) # specifying the type"
   ]
  },
  {
   "cell_type": "code",
   "execution_count": 30,
   "metadata": {},
   "outputs": [
    {
     "name": "stdout",
     "output_type": "stream",
     "text": [
      "<class 'numpy.int32'>\n"
     ]
    }
   ],
   "source": [
    "print(type(np.zeros(6,dtype='int32')[3])) # specifying the type"
   ]
  },
  {
   "cell_type": "markdown",
   "metadata": {},
   "source": [
    "### Linespace, Logspace, arange, shape, reshape"
   ]
  },
  {
   "cell_type": "code",
   "execution_count": 31,
   "metadata": {},
   "outputs": [
    {
     "name": "stdout",
     "output_type": "stream",
     "text": [
      "z =  [ 1.   13.25 25.5  37.75 50.  ]\n"
     ]
    }
   ],
   "source": [
    "z = np.linspace(1,50,5) # np.linspace(a,b,c) will give total c numbers with including a and b\n",
    "print(\"z = \",z)  # result  will generated by d = (b-a)/(c-1) and then return array([a,a+d,a+d+d,a+d+d+d,...])"
   ]
  },
  {
   "cell_type": "code",
   "execution_count": 32,
   "metadata": {},
   "outputs": [
    {
     "name": "stdout",
     "output_type": "stream",
     "text": [
      "z[1] =  13.25\n"
     ]
    }
   ],
   "source": [
    "print(\"z[1] = \",z[1])"
   ]
  },
  {
   "cell_type": "code",
   "execution_count": 33,
   "metadata": {},
   "outputs": [
    {
     "name": "stdout",
     "output_type": "stream",
     "text": [
      "type(z) =  <class 'numpy.ndarray'>\n"
     ]
    }
   ],
   "source": [
    "print(\"type(z) = \",type(z))"
   ]
  },
  {
   "cell_type": "code",
   "execution_count": 34,
   "metadata": {},
   "outputs": [
    {
     "name": "stdout",
     "output_type": "stream",
     "text": [
      "type(z[1]) =  <class 'numpy.float64'>\n"
     ]
    }
   ],
   "source": [
    "print(\"type(z[1]) = \",type(z[1]))"
   ]
  },
  {
   "cell_type": "code",
   "execution_count": 35,
   "metadata": {},
   "outputs": [
    {
     "name": "stdout",
     "output_type": "stream",
     "text": [
      "z =  [   10.            56.23413252   316.22776602  1778.27941004\n",
      " 10000.        ]\n",
      "z[1] =  56.23413251903491\n",
      "type(z) =  <class 'numpy.ndarray'>\n",
      "type(z[1]) =  <class 'numpy.float64'>\n"
     ]
    }
   ],
   "source": [
    "z = np.logspace(1,4,5) # np.logspace(a,b,c) will give total c logarithmic distance numbers bet. a & b\n",
    "print(\"z = \",z)                       \n",
    "print(\"z[1] = \",z[1])\n",
    "print(\"type(z) = \",type(z))\n",
    "print(\"type(z[1]) = \",type(z[1]))"
   ]
  },
  {
   "cell_type": "code",
   "execution_count": 36,
   "metadata": {},
   "outputs": [
    {
     "name": "stdout",
     "output_type": "stream",
     "text": [
      "o =  (array([ 1.  ,  5.75, 10.5 , 15.25, 20.  ]), 4.75)\n",
      "type(o) =  <class 'tuple'>\n",
      "array is :  [ 1.    5.75 10.5  15.25 20.  ]\n",
      "difference is :  4.75\n"
     ]
    }
   ],
   "source": [
    "# to get the difference between values\n",
    "o = np.linspace(1,20,5,retstep=True) # it will return the difference at last element. here 4.75\n",
    "print(\"o = \",o)\n",
    "print(\"type(o) = \",type(o))\n",
    "print(\"array is : \",o[0]) # get array\n",
    "print(\"difference is : \",o[1]) # get difference"
   ]
  },
  {
   "cell_type": "code",
   "execution_count": 37,
   "metadata": {},
   "outputs": [
    {
     "name": "stdout",
     "output_type": "stream",
     "text": [
      "[3 4 5 2 1]\n",
      "[ 3  4 34  2  1]\n",
      "34\n"
     ]
    }
   ],
   "source": [
    "# numpy arrays values are of same type\n",
    "h = np.array([3,4,5,2,1])\n",
    "print(h)\n",
    "h[2]=34\n",
    "print(h)\n",
    "print(h[-3])"
   ]
  },
  {
   "cell_type": "code",
   "execution_count": 38,
   "metadata": {},
   "outputs": [
    {
     "name": "stdout",
     "output_type": "stream",
     "text": [
      "[ 0  1  2  3  4  5  6  7  8  9 10 11 12 13 14 15 16 17 18 19 20 21 22 23\n",
      " 24 25 26 27 28 29 30 31 32 33 34]\n",
      "[[ 0  1  2  3  4]\n",
      " [ 5  6  7  8  9]\n",
      " [10 11 12 13 14]\n",
      " [15 16 17 18 19]\n",
      " [20 21 22 23 24]\n",
      " [25 26 27 28 29]\n",
      " [30 31 32 33 34]]\n",
      "a's dimension :  2\n"
     ]
    }
   ],
   "source": [
    "# 2 dimensional arrays\n",
    "a = np.arange(35)\n",
    "print(a)\n",
    "a.shape = (7,5) # giving shape to make 5 col and 7 rows\n",
    "print(a)\n",
    "print(\"a's dimension : \",a.ndim) # ndim return array dimension"
   ]
  },
  {
   "cell_type": "markdown",
   "metadata": {},
   "source": [
    "### accessing values of matrix by rows and columns [row_no. ,col_no.]"
   ]
  },
  {
   "cell_type": "code",
   "execution_count": 39,
   "metadata": {},
   "outputs": [],
   "source": [
    "row = 5\n",
    "col = 2"
   ]
  },
  {
   "cell_type": "code",
   "execution_count": 40,
   "metadata": {},
   "outputs": [
    {
     "name": "stdout",
     "output_type": "stream",
     "text": [
      "a[5,2] :  27\n",
      "a[5,2] :  27\n"
     ]
    }
   ],
   "source": [
    "print(\"a[5,2] : \",a[row,col]) # count row and col. from zero(0).\n",
    "# or \n",
    "print(\"a[5,2] : \",a[row][col]) # count row and col. from zero(0)."
   ]
  },
  {
   "cell_type": "code",
   "execution_count": 41,
   "metadata": {},
   "outputs": [
    {
     "name": "stdout",
     "output_type": "stream",
     "text": [
      "[ 0  1  2  3  4  5  6  7  8  9 10 11 12 13 14 15 16 17 18 19 20 21 22 23\n",
      " 24 25 26 27 28 29 30 31 32 33 34 35 36 37 38 39 40 41 42 43 44 45 46 47\n",
      " 48 49 50 51 52 53 54 55 56 57 58 59 60 61 62 63 64 65 66 67 68 69]\n"
     ]
    }
   ],
   "source": [
    "# 3-D np.array\n",
    "a3d = np.arange(70)\n",
    "print(a3d)"
   ]
  },
  {
   "cell_type": "code",
   "execution_count": 42,
   "metadata": {},
   "outputs": [
    {
     "name": "stdout",
     "output_type": "stream",
     "text": [
      "[[[ 0  1  2  3  4]\n",
      "  [ 5  6  7  8  9]\n",
      "  [10 11 12 13 14]\n",
      "  [15 16 17 18 19]\n",
      "  [20 21 22 23 24]\n",
      "  [25 26 27 28 29]\n",
      "  [30 31 32 33 34]]\n",
      "\n",
      " [[35 36 37 38 39]\n",
      "  [40 41 42 43 44]\n",
      "  [45 46 47 48 49]\n",
      "  [50 51 52 53 54]\n",
      "  [55 56 57 58 59]\n",
      "  [60 61 62 63 64]\n",
      "  [65 66 67 68 69]]]\n"
     ]
    }
   ],
   "source": [
    "a3d.shape = (2,7,5) # array of 2 matrices where each has 5 cols and 7 rows\n",
    "print(a3d)"
   ]
  },
  {
   "cell_type": "code",
   "execution_count": 43,
   "metadata": {},
   "outputs": [
    {
     "data": {
      "text/plain": [
       "3"
      ]
     },
     "execution_count": 43,
     "metadata": {},
     "output_type": "execute_result"
    }
   ],
   "source": [
    "a3d.ndim # ndim return array dimension"
   ]
  },
  {
   "cell_type": "code",
   "execution_count": 44,
   "metadata": {},
   "outputs": [
    {
     "data": {
      "text/plain": [
       "70"
      ]
     },
     "execution_count": 44,
     "metadata": {},
     "output_type": "execute_result"
    }
   ],
   "source": [
    "a3d.size # size return array size. means number of elements"
   ]
  },
  {
   "cell_type": "code",
   "execution_count": 45,
   "metadata": {},
   "outputs": [
    {
     "data": {
      "text/plain": [
       "70"
      ]
     },
     "execution_count": 45,
     "metadata": {},
     "output_type": "execute_result"
    }
   ],
   "source": [
    "np.size(a3d) # np size return array size. means number of elements"
   ]
  },
  {
   "cell_type": "code",
   "execution_count": 46,
   "metadata": {},
   "outputs": [
    {
     "data": {
      "text/plain": [
       "dtype('int32')"
      ]
     },
     "execution_count": 46,
     "metadata": {},
     "output_type": "execute_result"
    }
   ],
   "source": [
    "a3d.dtype # dtype return array elements datatype"
   ]
  },
  {
   "cell_type": "code",
   "execution_count": 47,
   "metadata": {},
   "outputs": [
    {
     "data": {
      "text/plain": [
       "array([[[ 0,  1,  2,  3,  4,  5,  6],\n",
       "        [ 7,  8,  9, 10, 11, 12, 13]],\n",
       "\n",
       "       [[14, 15, 16, 17, 18, 19, 20],\n",
       "        [21, 22, 23, 24, 25, 26, 27]],\n",
       "\n",
       "       [[28, 29, 30, 31, 32, 33, 34],\n",
       "        [35, 36, 37, 38, 39, 40, 41]],\n",
       "\n",
       "       [[42, 43, 44, 45, 46, 47, 48],\n",
       "        [49, 50, 51, 52, 53, 54, 55]],\n",
       "\n",
       "       [[56, 57, 58, 59, 60, 61, 62],\n",
       "        [63, 64, 65, 66, 67, 68, 69]]])"
      ]
     },
     "execution_count": 47,
     "metadata": {},
     "output_type": "execute_result"
    }
   ],
   "source": [
    "# two methods to reshape\n",
    "a3d.reshape(5,2,7) # reshaping array matrix but a3d will as it is\n",
    "# or\n",
    "np.reshape(a3d,(5,2,7)) # reshaping array matrix but a3d will as it is"
   ]
  },
  {
   "cell_type": "code",
   "execution_count": 48,
   "metadata": {},
   "outputs": [
    {
     "data": {
      "text/plain": [
       "array([[[ 0,  1,  2,  3,  4],\n",
       "        [ 5,  6,  7,  8,  9],\n",
       "        [10, 11, 12, 13, 14],\n",
       "        [15, 16, 17, 18, 19],\n",
       "        [20, 21, 22, 23, 24],\n",
       "        [25, 26, 27, 28, 29],\n",
       "        [30, 31, 32, 33, 34]],\n",
       "\n",
       "       [[35, 36, 37, 38, 39],\n",
       "        [40, 41, 42, 43, 44],\n",
       "        [45, 46, 47, 48, 49],\n",
       "        [50, 51, 52, 53, 54],\n",
       "        [55, 56, 57, 58, 59],\n",
       "        [60, 61, 62, 63, 64],\n",
       "        [65, 66, 67, 68, 69]]])"
      ]
     },
     "execution_count": 48,
     "metadata": {},
     "output_type": "execute_result"
    }
   ],
   "source": [
    "a3d"
   ]
  },
  {
   "cell_type": "code",
   "execution_count": 49,
   "metadata": {},
   "outputs": [
    {
     "data": {
      "text/plain": [
       "array([[  380,   430,   480,   530,   580,   630,   680],\n",
       "       [ 1305,  1480,  1655,  1830,  2005,  2180,  2355],\n",
       "       [ 2230,  2530,  2830,  3130,  3430,  3730,  4030],\n",
       "       [ 3155,  3580,  4005,  4430,  4855,  5280,  5705],\n",
       "       [ 4080,  4630,  5180,  5730,  6280,  6830,  7380],\n",
       "       [ 5005,  5680,  6355,  7030,  7705,  8380,  9055],\n",
       "       [ 5930,  6730,  7530,  8330,  9130,  9930, 10730]])"
      ]
     },
     "execution_count": 49,
     "metadata": {},
     "output_type": "execute_result"
    }
   ],
   "source": [
    "np.inner(a3d[0],a3d[1]) # inner or dot product of two matrices"
   ]
  },
  {
   "cell_type": "code",
   "execution_count": 50,
   "metadata": {},
   "outputs": [
    {
     "name": "stdout",
     "output_type": "stream",
     "text": [
      "\n",
      "sum of all elements of a3d[1] =  1820\n",
      "\n",
      "sum of all elements of a3d[1] =  1820\n"
     ]
    }
   ],
   "source": [
    "print(\"\\nsum of all elements of a3d[1] = \",a3d[1].sum())\n",
    "# or\n",
    "print(\"\\nsum of all elements of a3d[1] = \",sum(a3d[1]))"
   ]
  },
  {
   "cell_type": "code",
   "execution_count": 51,
   "metadata": {},
   "outputs": [
    {
     "name": "stdout",
     "output_type": "stream",
     "text": [
      "[10 11 12 13 14]   or   [10 11 12 13 14]\n"
     ]
    }
   ],
   "source": [
    "# second row access methods\n",
    "print(a3d[0,2],\"  or  \",a3d[0][2]) # 0 index matrix's 2nd row"
   ]
  },
  {
   "cell_type": "code",
   "execution_count": 52,
   "metadata": {},
   "outputs": [
    {
     "name": "stdout",
     "output_type": "stream",
     "text": [
      "12   or   12   or   12\n"
     ]
    }
   ],
   "source": [
    "# 0 indexed matrix's 2nd row's 2nd element access methods\n",
    "print(a3d[0,2,2],\"  or  \",a3d[0,2][2],\"  or  \",a3d[0][2,2]) # 0 index matrix's 2nd row's 2nd element"
   ]
  },
  {
   "cell_type": "code",
   "execution_count": 53,
   "metadata": {},
   "outputs": [
    {
     "data": {
      "text/plain": [
       "array([[ 0,  1,  2,  3,  4],\n",
       "       [ 5,  6,  7,  8,  9],\n",
       "       [51, 62, 34, 82, 56],\n",
       "       [15, 16, 17, 18, 19],\n",
       "       [20, 21, 22, 23, 24],\n",
       "       [25, 26, 27, 28, 29],\n",
       "       [30, 31, 32, 33, 34]])"
      ]
     },
     "execution_count": 53,
     "metadata": {},
     "output_type": "execute_result"
    }
   ],
   "source": [
    "a3d[0][2] = [51,62,34,82,56] # easy to change row\n",
    "a3d[0] # 0 index matrix's 2nd row"
   ]
  },
  {
   "cell_type": "code",
   "execution_count": 54,
   "metadata": {},
   "outputs": [
    {
     "data": {
      "text/plain": [
       "25"
      ]
     },
     "execution_count": 54,
     "metadata": {},
     "output_type": "execute_result"
    }
   ],
   "source": [
    "a3d[0,2,2] = 25 #easy to change element\n",
    "a3d[0][2,2] # 0 index matrix's 2nd row's 2nd element"
   ]
  },
  {
   "cell_type": "markdown",
   "metadata": {},
   "source": [
    "## Boolean mask for arrays"
   ]
  },
  {
   "cell_type": "code",
   "execution_count": 55,
   "metadata": {},
   "outputs": [
    {
     "data": {
      "text/plain": [
       "array([-17,  -4,   0,   2,  21,  37, 105])"
      ]
     },
     "execution_count": 55,
     "metadata": {},
     "output_type": "execute_result"
    }
   ],
   "source": [
    "vector = np.array([-17,-4,0,2,21,37,105])\n",
    "vector"
   ]
  },
  {
   "cell_type": "code",
   "execution_count": 56,
   "metadata": {},
   "outputs": [
    {
     "data": {
      "text/plain": [
       "array([False, False,  True, False,  True, False,  True])"
      ]
     },
     "execution_count": 56,
     "metadata": {},
     "output_type": "execute_result"
    }
   ],
   "source": [
    "vector%7 ==0 # check all values of vector if it can divide by zero with reminder 0"
   ]
  },
  {
   "cell_type": "code",
   "execution_count": 57,
   "metadata": {},
   "outputs": [
    {
     "data": {
      "text/plain": [
       "array([  0,  21, 105])"
      ]
     },
     "execution_count": 57,
     "metadata": {},
     "output_type": "execute_result"
    }
   ],
   "source": [
    "vector[vector%7 ==0] # return all values that can divided by 7 with reminder 0"
   ]
  },
  {
   "cell_type": "code",
   "execution_count": 58,
   "metadata": {},
   "outputs": [
    {
     "data": {
      "text/plain": [
       "array([-17,  -4,   2,  37])"
      ]
     },
     "execution_count": 58,
     "metadata": {},
     "output_type": "execute_result"
    }
   ],
   "source": [
    "vector[vector%7 !=0] # return all values that can't divided by 7 with reminder 0"
   ]
  },
  {
   "cell_type": "code",
   "execution_count": 59,
   "metadata": {},
   "outputs": [
    {
     "name": "stdout",
     "output_type": "stream",
     "text": [
      "test1 =  [False False  True False  True False  True]\n",
      "test2 =  [False False False  True  True  True  True]\n"
     ]
    }
   ],
   "source": [
    "test1 = vector%7 == 0\n",
    "test2 = vector > 0\n",
    "print(\"test1 = \",test1) # boolean mask of vector's all values for test 1\n",
    "print(\"test2 = \",test2) # boolean mask of vector's all values for test 2"
   ]
  },
  {
   "cell_type": "code",
   "execution_count": 60,
   "metadata": {},
   "outputs": [
    {
     "name": "stdout",
     "output_type": "stream",
     "text": [
      "t1&t2 boolean mask =  [False False False False  True False  True]\n",
      "elements where test1 and test2 both are applicable :  [ 21 105]\n"
     ]
    }
   ],
   "source": [
    "# get elements of vector where test1 and test2 both are applicable\n",
    "print(\"t1&t2 boolean mask = \",np.logical_and(test1,test2)) #logical and of numpy\n",
    "print(\"elements where test1 and test2 both are applicable : \",vector[np.logical_and(test1,test2)])"
   ]
  },
  {
   "cell_type": "code",
   "execution_count": 61,
   "metadata": {},
   "outputs": [
    {
     "name": "stdout",
     "output_type": "stream",
     "text": [
      "t1||t2 =  [False False  True  True  True  True  True]\n",
      "elements where test1 and test2 any one is applicable :  [  0   2  21  37 105]\n"
     ]
    }
   ],
   "source": [
    "print(\"t1||t2 = \",np.logical_or(test1,test2)) #logical or of numpy\n",
    "print(\"elements where test1 and test2 any one is applicable : \",vector[np.logical_or(test1,test2)])"
   ]
  },
  {
   "cell_type": "code",
   "execution_count": 62,
   "metadata": {},
   "outputs": [
    {
     "name": "stdout",
     "output_type": "stream",
     "text": [
      "!test1 [ True  True False  True False  True False]\n"
     ]
    }
   ],
   "source": [
    "print(\"!test1\",np.logical_not(test1)) # logical not of numpy"
   ]
  },
  {
   "cell_type": "code",
   "execution_count": 63,
   "metadata": {},
   "outputs": [
    {
     "name": "stdout",
     "output_type": "stream",
     "text": [
      "!test2 [ True  True  True False False False False]\n"
     ]
    }
   ],
   "source": [
    "print(\"!test2\",np.logical_not(test2)) # logical not of numpy"
   ]
  },
  {
   "cell_type": "code",
   "execution_count": 64,
   "metadata": {},
   "outputs": [
    {
     "name": "stdout",
     "output_type": "stream",
     "text": [
      "t1 x-or t2 [False False  True  True False  True False]\n"
     ]
    }
   ],
   "source": [
    "print(\"t1 x-or t2\",np.logical_xor(test1,test2)) # logical x-or of numpy"
   ]
  },
  {
   "cell_type": "code",
   "execution_count": 65,
   "metadata": {},
   "outputs": [
    {
     "name": "stdout",
     "output_type": "stream",
     "text": [
      "shape =  (2, 8) \n",
      "b =  [[9 8 5 2 1 4 6 5]\n",
      " [8 5 2 1 5 4 2 3]] \n",
      "type(b[1]) <class 'numpy.ndarray'>\n"
     ]
    }
   ],
   "source": [
    "# if we take same dimentional list's list then we'll get array of array\n",
    "a = [[9,8,5,2,1,4,6,5],[8,5,2,1,5,4,2,3]] # a[0] and a[1] are same dimensional\n",
    "b = np.array(a) # list to np array conversion automatically\n",
    "print(\"shape = \",b.shape,\"\\nb = \",b,\"\\ntype(b[1])\",type(b[1])) "
   ]
  },
  {
   "cell_type": "code",
   "execution_count": 66,
   "metadata": {},
   "outputs": [
    {
     "name": "stdout",
     "output_type": "stream",
     "text": [
      "shape =  (2,) \n",
      "b =  [list([9, 8, 5, 6, 5]) list([8, 5, 2, 1, 5, 4, 2, 3])] \n",
      "type(b[1]) <class 'list'>\n"
     ]
    }
   ],
   "source": [
    "# if we take different dimentional list's list then we'll get array of list\n",
    "a = [[9,8,5,6,5],[8,5,2,1,5,4,2,3]] # a[0] and a[1] are different dimensional\n",
    "b = np.array(a) # list to np array conversion automatically\n",
    "print(\"shape = \",b.shape,\"\\nb = \",b,\"\\ntype(b[1])\",type(b[1])) "
   ]
  },
  {
   "cell_type": "code",
   "execution_count": 67,
   "metadata": {},
   "outputs": [
    {
     "name": "stdout",
     "output_type": "stream",
     "text": [
      "z1 =  [167   0 158 126  10  47] \n",
      "type(z1) =  <class 'numpy.ndarray'> \n",
      "z1[2] =  158 \n",
      "z.shape =  (6,)\n",
      "values : \n",
      " 167 \n",
      " [167   0] \n",
      " [158 126  10  47] \n",
      " [158 126] \n",
      " 47 \n",
      " [ 47  10 126 158   0 167]\n"
     ]
    }
   ],
   "source": [
    "# this st. will generate 6 sized of np array with random values in range of 200.\n",
    "# 200 is maximum of random.\n",
    "np.random.seed(120)\n",
    "z1 = np.random.randint(200,size=6) #try the size (4,3) inplace of 6\n",
    "print(\"z1 = \",z1, \"\\ntype(z1) = \",type(z1),\"\\nz1[2] = \",z1[2],\"\\nz.shape = \",z1.shape)\n",
    "print(\"values : \\n\",z1[0],\"\\n\",z1[:2],\"\\n\",z1[2:],\"\\n\",z1[2:4],\"\\n\",z1[-1],\"\\n\",z1[::-1])"
   ]
  },
  {
   "cell_type": "code",
   "execution_count": 68,
   "metadata": {},
   "outputs": [
    {
     "name": "stdout",
     "output_type": "stream",
     "text": [
      "<class 'imageio.core.util.Array'>\n",
      "(1032, 1366, 3)\n",
      "<class 'tuple'>\n"
     ]
    }
   ],
   "source": [
    "#reads an image and convert it in gray scale and save it in variable as np array\n",
    "from skimage import io\n",
    "photo = io.imread(\"UDP.png\") \n",
    "print(type(photo))\n",
    "print(photo.shape)\n",
    "print(type(photo.shape))"
   ]
  },
  {
   "cell_type": "code",
   "execution_count": 69,
   "metadata": {},
   "outputs": [
    {
     "data": {
      "text/plain": [
       "<matplotlib.image.AxesImage at 0xba374d0>"
      ]
     },
     "execution_count": 69,
     "metadata": {},
     "output_type": "execute_result"
    }
   ],
   "source": [
    "import matplotlib.pyplot as plt\n",
    "plt.imshow(photo) # plot above photo over matplot"
   ]
  },
  {
   "cell_type": "code",
   "execution_count": 70,
   "metadata": {},
   "outputs": [
    {
     "data": {
      "text/plain": [
       "<matplotlib.image.AxesImage at 0xbfd74d0>"
      ]
     },
     "execution_count": 70,
     "metadata": {},
     "output_type": "execute_result"
    },
    {
     "data": {
      "image/png": "[encoded data removed]",
      "text/plain": [
       "<Figure size 432x288 with 1 Axes>"
      ]
     },
     "metadata": {
      "needs_background": "light"
     },
     "output_type": "display_data"
    }
   ],
   "source": [
    "#reversing the np array will mirror image vertically\n",
    "plt.imshow(photo[::-1]) "
   ]
  },
  {
   "cell_type": "code",
   "execution_count": 71,
   "metadata": {},
   "outputs": [
    {
     "data": {
      "text/plain": [
       "<matplotlib.image.AxesImage at 0xc023570>"
      ]
     },
     "execution_count": 71,
     "metadata": {},
     "output_type": "execute_result"
    },
    {
     "data": {
      "image/png": "[encoded data removed]",
      "text/plain": [
       "<Figure size 432x288 with 1 Axes>"
      ]
     },
     "metadata": {
      "needs_background": "light"
     },
     "output_type": "display_data"
    }
   ],
   "source": [
    "# mirror image horizontaly\n",
    "plt.imshow(photo[:,::-1]) "
   ]
  },
  {
   "cell_type": "code",
   "execution_count": 72,
   "metadata": {},
   "outputs": [],
   "source": [
    "plt.imsave(\"vrushank2.jpg\",photo) # save photo with name vrushank.jpg"
   ]
  },
  {
   "cell_type": "code",
   "execution_count": 73,
   "metadata": {},
   "outputs": [
    {
     "data": {
      "text/plain": [
       "<matplotlib.image.AxesImage at 0xc0606b0>"
      ]
     },
     "execution_count": 73,
     "metadata": {},
     "output_type": "execute_result"
    },
    {
     "data": {
      "image/png": "[encoded data removed]",
      "text/plain": [
       "<Figure size 432x288 with 1 Axes>"
      ]
     },
     "metadata": {
      "needs_background": "light"
     },
     "output_type": "display_data"
    }
   ],
   "source": [
    "plt.imshow(photo)"
   ]
  },
  {
   "cell_type": "code",
   "execution_count": 74,
   "metadata": {},
   "outputs": [
    {
     "data": {
      "text/plain": [
       "<matplotlib.image.AxesImage at 0xc09b6b0>"
      ]
     },
     "execution_count": 74,
     "metadata": {},
     "output_type": "execute_result"
    },
    {
     "data": {
      "image/png": "[encoded data removed]",
      "text/plain": [
       "<Figure size 432x288 with 1 Axes>"
      ]
     },
     "metadata": {
      "needs_background": "light"
     },
     "output_type": "display_data"
    }
   ],
   "source": [
    "# code to zoom on specific part of image\n",
    "# lets zoom on this picture's part where \"Socket Methods\" is\n",
    "# y1 = 0 y2 = 200 x1 = 200 x2 = 710 are it's coordinates\n",
    "plt.imshow(photo[0:200,200:710]) # photo[y1:y2,x1:x2]"
   ]
  },
  {
   "cell_type": "code",
   "execution_count": 75,
   "metadata": {},
   "outputs": [
    {
     "data": {
      "text/plain": [
       "<matplotlib.image.AxesImage at 0xc0d19b0>"
      ]
     },
     "execution_count": 75,
     "metadata": {},
     "output_type": "execute_result"
    },
    {
     "data": {
      "image/png": "[encoded data removed]",
      "text/plain": [
       "<Figure size 432x288 with 1 Axes>"
      ]
     },
     "metadata": {
      "needs_background": "light"
     },
     "output_type": "display_data"
    }
   ],
   "source": [
    "# half the photo size [1/2]\n",
    "plt.imshow(photo[::2,::2]) "
   ]
  },
  {
   "cell_type": "code",
   "execution_count": 76,
   "metadata": {},
   "outputs": [
    {
     "data": {
      "text/plain": [
       "<matplotlib.image.AxesImage at 0xc222610>"
      ]
     },
     "execution_count": 76,
     "metadata": {},
     "output_type": "execute_result"
    },
    {
     "data": {
      "image/png": "[encoded data removed]",
      "text/plain": [
       "<Figure size 432x288 with 1 Axes>"
      ]
     },
     "metadata": {
      "needs_background": "light"
     },
     "output_type": "display_data"
    }
   ],
   "source": [
    "# make photo size 1/3\n",
    "plt.imshow(photo[::3,::3]) "
   ]
  },
  {
   "cell_type": "code",
   "execution_count": 77,
   "metadata": {},
   "outputs": [
    {
     "name": "stdout",
     "output_type": "stream",
     "text": [
      "320793462\n",
      "0\n",
      "75.85319129013585\n",
      "113.34202810529241\n",
      "12846.415335020894\n",
      "0\n",
      "255\n",
      "0\n",
      "77883\n"
     ]
    }
   ],
   "source": [
    "print(np.sum(photo)) # sum of all values of photo array\n",
    "print(np.prod(photo)) # product of all values of photo array\n",
    "print(np.mean(photo)) # mean of all values of photo array\n",
    "print(np.std(photo)) # standard deviation of all values of photo array\n",
    "print(np.var(photo)) # variance of all values of photo array\n",
    "print(np.min(photo)) # minimum value of all values of photo array\n",
    "print(np.max(photo)) # maximum value of all values of photo array\n",
    "print(np.argmin(photo)) # index value of minimum value\n",
    "print(np.argmax(photo)) # index value of maximum value\n"
   ]
  },
  {
   "cell_type": "code",
   "execution_count": 78,
   "metadata": {},
   "outputs": [
    {
     "name": "stdout",
     "output_type": "stream",
     "text": [
      "[False  True False  True  True False]\n",
      "[ True False  True False False False]\n"
     ]
    }
   ],
   "source": [
    "a = np.array([9,2,5,0,1,3])\n",
    "print(a<3)\n",
    "print(a>3)"
   ]
  },
  {
   "cell_type": "code",
   "execution_count": 79,
   "metadata": {},
   "outputs": [
    {
     "name": "stdout",
     "output_type": "stream",
     "text": [
      "[9 5]\n",
      "[2 0 1]\n"
     ]
    }
   ],
   "source": [
    "print(a[a>3]) # return np.array of all the value of a which are >3\n",
    "print(a[a<3]) # return np.array of all the value of a which are <3"
   ]
  },
  {
   "cell_type": "code",
   "execution_count": 80,
   "metadata": {},
   "outputs": [
    {
     "data": {
      "text/plain": [
       "<matplotlib.image.AxesImage at 0xc26e430>"
      ]
     },
     "execution_count": 80,
     "metadata": {},
     "output_type": "execute_result"
    },
    {
     "data": {
      "image/png": "[encoded data removed]",
      "text/plain": [
       "<Figure size 432x288 with 1 Axes>"
      ]
     },
     "metadata": {
      "needs_background": "light"
     },
     "output_type": "display_data"
    }
   ],
   "source": [
    "#load new photo\n",
    "photo1 = io.imread(\"abc.jpg\")\n",
    "plt.imshow(photo1)"
   ]
  },
  {
   "cell_type": "code",
   "execution_count": 81,
   "metadata": {},
   "outputs": [
    {
     "data": {
      "text/plain": [
       "<matplotlib.image.AxesImage at 0xc2b4d70>"
      ]
     },
     "execution_count": 81,
     "metadata": {},
     "output_type": "execute_result"
    },
    {
     "data": {
      "image/png": "[encoded data removed]",
      "text/plain": [
       "<Figure size 432x288 with 1 Axes>"
      ]
     },
     "metadata": {
      "needs_background": "light"
     },
     "output_type": "display_data"
    }
   ],
   "source": [
    "# replace values of photo array \n",
    "# where value is >100 replace it by 255 otherwise replace it by 0\n",
    "plt.imshow(np.where(photo1>100 ,255, 0))"
   ]
  },
  {
   "cell_type": "code",
   "execution_count": 82,
   "metadata": {},
   "outputs": [
    {
     "data": {
      "text/plain": [
       "<matplotlib.image.AxesImage at 0xd518750>"
      ]
     },
     "execution_count": 82,
     "metadata": {},
     "output_type": "execute_result"
    },
    {
     "data": {
      "image/png": "[encoded data removed]",
      "text/plain": [
       "<Figure size 432x288 with 1 Axes>"
      ]
     },
     "metadata": {
      "needs_background": "light"
     },
     "output_type": "display_data"
    }
   ],
   "source": [
    "# replace values of photo array \n",
    "# where value is >100 replace it by 0 otherwise replace it by 255\n",
    "plt.imshow(np.where(photo1>100 ,0, 255))"
   ]
  },
  {
   "cell_type": "code",
   "execution_count": 83,
   "metadata": {},
   "outputs": [],
   "source": [
    "# array operations\n",
    "a = np.array([8,2,4,9,0,1,6])\n",
    "b = np.array([0,8,2,6,4,0,1])"
   ]
  },
  {
   "cell_type": "code",
   "execution_count": 84,
   "metadata": {},
   "outputs": [
    {
     "name": "stdout",
     "output_type": "stream",
     "text": [
      "84\n",
      "84\n",
      "84\n"
     ]
    }
   ],
   "source": [
    "# dot product of a and b\n",
    "# so ans will 8*0 + 2*8 + 4*2 + 9*6 + 0*4 + 1*0 + 6*1\n",
    "print(a @ b)\n",
    "# or\n",
    "print(np.inner(a,b))\n",
    "# or\n",
    "print(np.dot(a,b))"
   ]
  },
  {
   "cell_type": "code",
   "execution_count": 85,
   "metadata": {},
   "outputs": [
    {
     "data": {
      "text/plain": [
       "array([0, 1, 2, 4, 6, 8, 9])"
      ]
     },
     "execution_count": 85,
     "metadata": {},
     "output_type": "execute_result"
    }
   ],
   "source": [
    "a.sort() # sort values of array a and store it in a so variable a will changed to sorted\n",
    "a"
   ]
  },
  {
   "cell_type": "code",
   "execution_count": 86,
   "metadata": {},
   "outputs": [
    {
     "name": "stdout",
     "output_type": "stream",
     "text": [
      "a =  [8 2 4 9 0 1 6] \n",
      " u =  [0 1 2 4 6 8 9]\n"
     ]
    }
   ],
   "source": [
    "# if we don't want to change variable while sorting.. that means\n",
    "# if we dont want to change array a's values but want to store its sorted array in u then\n",
    "a = np.array([8,2,4,9,0,1,6]) # a will be as it is\n",
    "u = np.sort(a) # u will sorted of a\n",
    "print(\"a = \",a,\"\\n\",\"u = \",u)"
   ]
  },
  {
   "cell_type": "code",
   "execution_count": 87,
   "metadata": {},
   "outputs": [],
   "source": [
    "# lets apply some operations on np.array\n",
    "a = np.array([8,2,4,9,0,1,6])\n",
    "b = np.array([0,8,2,6,4,0,1])"
   ]
  },
  {
   "cell_type": "code",
   "execution_count": 88,
   "metadata": {},
   "outputs": [
    {
     "data": {
      "text/plain": [
       "array([ 8, 10,  6, 15,  4,  1,  7])"
      ]
     },
     "execution_count": 88,
     "metadata": {},
     "output_type": "execute_result"
    }
   ],
   "source": [
    "a+b # sum of two array"
   ]
  },
  {
   "cell_type": "code",
   "execution_count": 89,
   "metadata": {},
   "outputs": [
    {
     "data": {
      "text/plain": [
       "array([ 0, 16,  8, 54,  0,  0,  6])"
      ]
     },
     "execution_count": 89,
     "metadata": {},
     "output_type": "execute_result"
    }
   ],
   "source": [
    "a*b # multiplication of arrays"
   ]
  },
  {
   "cell_type": "code",
   "execution_count": 90,
   "metadata": {},
   "outputs": [
    {
     "name": "stdout",
     "output_type": "stream",
     "text": [
      "[8 2 4 9 0 1 6]\n",
      "[160  40  80 180   0  20 120]\n",
      "[28 22 24 29 20 21 26]\n",
      "[-12 -18 -16 -11 -20 -19 -14]\n",
      "[4.  1.  2.  4.5 0.  0.5 3. ]\n",
      "[4 1 2 4 0 0 3]\n",
      "[64  4 16 81  0  1 36]\n",
      "[64  4 16 81  0  1 36]\n"
     ]
    }
   ],
   "source": [
    "print(a)\n",
    "print(a*20) # multiply all the values of a by 20\n",
    "print(a+20) # add all the values of a by 20\n",
    "print(a-20) # subtract all the values of a by 20\n",
    "print(a/2) # divide all the values of a by 2\n",
    "print(a//2) # divide all the values of a by 2 and give int result array\n",
    "print(a**2) # power all the values of a by 2\n",
    "print(pow(a,2)) # power all the values of a by 2"
   ]
  },
  {
   "cell_type": "code",
   "execution_count": 91,
   "metadata": {},
   "outputs": [
    {
     "name": "stdout",
     "output_type": "stream",
     "text": [
      "d =  [[1 8 4]\n",
      " [3 7 2]\n",
      " [7 4 2]] \n",
      "c =  [[6 3 9]\n",
      " [3 5 9]\n",
      " [4 8 5]]\n",
      "d + c =  [[ 7 11 13]\n",
      " [ 6 12 11]\n",
      " [11 12  7]]\n",
      "d - c =  [[-5  5 -5]\n",
      " [ 0  2 -7]\n",
      " [ 3 -4 -3]]\n",
      "d * c =  [[ 6 24 36]\n",
      " [ 9 35 18]\n",
      " [28 32 10]]\n",
      "c @ d [dot product] =  [[ 78 105  48]\n",
      " [ 81  95  40]\n",
      " [ 63 108  42]]\n"
     ]
    }
   ],
   "source": [
    "# lets create 3x3 matrices using np array and apply operations\n",
    "c = np.array([np.array([6,3,9]),np.array([3,5,9]),np.array([4,8,5])])\n",
    "d = np.array([np.array([1,8,4]),np.array([3,7,2]),np.array([7,4,2])])\n",
    "print(\"d = \",d,\"\\nc = \",c)\n",
    "print(\"d + c = \",d+c) # matrix addition by corosponding values\n",
    "print(\"d - c = \",d-c) # matrix subtraction by corosponding values\n",
    "print(\"d * c = \",d*c) # matrix multiplication by corosponding values\n",
    "print(\"c @ d [dot product] = \", c @ d) # matrix multiplication at dot product"
   ]
  },
  {
   "cell_type": "code",
   "execution_count": 92,
   "metadata": {},
   "outputs": [
    {
     "data": {
      "text/plain": [
       "array([[6, 3, 4],\n",
       "       [3, 5, 8],\n",
       "       [9, 9, 5]])"
      ]
     },
     "execution_count": 92,
     "metadata": {},
     "output_type": "execute_result"
    }
   ],
   "source": [
    "# to get transpose of matrix array\n",
    "# Transpose means rows to column and column to rows \n",
    "# but c will be as it is. we can use c = c.T to store it in c\n",
    "c.T "
   ]
  },
  {
   "cell_type": "code",
   "execution_count": 93,
   "metadata": {},
   "outputs": [
    {
     "data": {
      "text/plain": [
       "<matplotlib.image.AxesImage at 0xd73d6b0>"
      ]
     },
     "execution_count": 93,
     "metadata": {},
     "output_type": "execute_result"
    },
    {
     "data": {
      "image/png": "[encoded data removed]",
      "text/plain": [
       "<Figure size 432x288 with 1 Axes>"
      ]
     },
     "metadata": {
      "needs_background": "light"
     },
     "output_type": "display_data"
    }
   ],
   "source": [
    "# lets transpose the photo matrix\n",
    "plt.imshow(photo1[:,:,0].T)"
   ]
  },
  {
   "cell_type": "code",
   "execution_count": 94,
   "metadata": {},
   "outputs": [],
   "source": [
    "t = np.array([14,-3.54,5+7j])"
   ]
  },
  {
   "cell_type": "code",
   "execution_count": 95,
   "metadata": {},
   "outputs": [
    {
     "data": {
      "text/plain": [
       "array([ 0,  1,  2,  3,  4,  5,  6,  7,  8,  9, 10, 11, 12])"
      ]
     },
     "execution_count": 95,
     "metadata": {},
     "output_type": "execute_result"
    }
   ],
   "source": [
    "np.arange(13) # 0 to 13 with default gap 1"
   ]
  },
  {
   "cell_type": "code",
   "execution_count": 96,
   "metadata": {},
   "outputs": [
    {
     "data": {
      "text/plain": [
       "array([ 0,  3,  6,  9, 12])"
      ]
     },
     "execution_count": 96,
     "metadata": {},
     "output_type": "execute_result"
    }
   ],
   "source": [
    "np.arange(13,step = 3) # 0 to 13 with gap 3"
   ]
  },
  {
   "cell_type": "code",
   "execution_count": 97,
   "metadata": {},
   "outputs": [
    {
     "data": {
      "text/plain": [
       "array([10, 11, 12, 13, 14, 15, 16, 17])"
      ]
     },
     "execution_count": 97,
     "metadata": {},
     "output_type": "execute_result"
    }
   ],
   "source": [
    "np.arange(10,18) # start from 10 and gap will default 1"
   ]
  },
  {
   "cell_type": "code",
   "execution_count": 98,
   "metadata": {},
   "outputs": [
    {
     "data": {
      "text/plain": [
       "array([10, 12, 14, 16])"
      ]
     },
     "execution_count": 98,
     "metadata": {},
     "output_type": "execute_result"
    }
   ],
   "source": [
    "np.arange(10,18,step = 2) # start from 10 and gap will 2"
   ]
  },
  {
   "cell_type": "code",
   "execution_count": 99,
   "metadata": {},
   "outputs": [
    {
     "data": {
      "text/plain": [
       "array([10, 12, 14, 16])"
      ]
     },
     "execution_count": 99,
     "metadata": {},
     "output_type": "execute_result"
    }
   ],
   "source": [
    "# or ....\n",
    "np.arange(10,18,2) # start from 10 and gap will 2"
   ]
  },
  {
   "cell_type": "code",
   "execution_count": 100,
   "metadata": {},
   "outputs": [
    {
     "data": {
      "text/plain": [
       "array([ 3,  4,  5,  6,  7,  8,  9, 10])"
      ]
     },
     "execution_count": 100,
     "metadata": {},
     "output_type": "execute_result"
    }
   ],
   "source": [
    "np.arange(10,18)-7"
   ]
  },
  {
   "cell_type": "code",
   "execution_count": 101,
   "metadata": {},
   "outputs": [
    {
     "name": "stdout",
     "output_type": "stream",
     "text": [
      "8\n",
      "8\n"
     ]
    }
   ],
   "source": [
    "print(len(np.arange(10,18))) # python method\n",
    "print(np.arange(10,18).size) # numpy method"
   ]
  },
  {
   "cell_type": "code",
   "execution_count": 102,
   "metadata": {},
   "outputs": [],
   "source": [
    "a = np.arange(45)\n",
    "a = a.reshape(5,3,3)"
   ]
  },
  {
   "cell_type": "code",
   "execution_count": 103,
   "metadata": {},
   "outputs": [
    {
     "name": "stdout",
     "output_type": "stream",
     "text": [
      "a[1] =  [[ 9 10 11]\n",
      " [12 13 14]\n",
      " [15 16 17]]\n",
      "\n",
      "sum(axis=1) =  [30 39 48]\n",
      "\n",
      "sum(axis=0) =  [36 39 42]\n"
     ]
    }
   ],
   "source": [
    "print(\"a[1] = \",a[1])\n",
    "print(\"\\nsum(axis=1) = \",a[1].sum(axis = 1)) # sum or row elements and col as it is so 9+10+11,12+13+14,15+16+17\n",
    "print(\"\\nsum(axis=0) = \",a[1].sum(axis = 0)) # sum or col elements and row as it is so 9+12+15,10+13+16,11+14+17"
   ]
  },
  {
   "cell_type": "code",
   "execution_count": 104,
   "metadata": {},
   "outputs": [
    {
     "name": "stdout",
     "output_type": "stream",
     "text": [
      "[[3 3 3 3 3]\n",
      " [3 3 3 3 3]\n",
      " [3 3 3 3 3]\n",
      " [3 3 3 3 3]\n",
      " [3 3 3 3 3]\n",
      " [3 3 3 3 3]\n",
      " [3 3 3 3 3]]\n"
     ]
    }
   ],
   "source": [
    "# Broadcast rules\n",
    "# array of 3s with specified shape and dtype.\n",
    "m2d = np.ones(35,dtype='int').reshape((7,5)) *3 \n",
    "print(m2d)"
   ]
  },
  {
   "cell_type": "code",
   "execution_count": 105,
   "metadata": {},
   "outputs": [
    {
     "name": "stdout",
     "output_type": "stream",
     "text": [
      "[[0.59035952 0.53367256 0.95929853 0.95249356 0.86168863]\n",
      " [0.15907641 0.49566897 0.92660078 0.46330812 0.7320508 ]\n",
      " [0.01618143 0.45486764 0.40224437 0.46035949 0.34912461]\n",
      " [0.97318581 0.06697183 0.10348286 0.57613618 0.17199133]\n",
      " [0.66366107 0.91227517 0.64580302 0.65246499 0.42369047]\n",
      " [0.76014779 0.97187248 0.65072503 0.20215034 0.84232856]\n",
      " [0.73046586 0.97803165 0.76388822 0.11423932 0.95993768]]\n"
     ]
    }
   ],
   "source": [
    "m2d = np.random.random((7,5)) # random's random array with shape of 7 and 5\n",
    "print(m2d)"
   ]
  },
  {
   "cell_type": "code",
   "execution_count": 106,
   "metadata": {},
   "outputs": [],
   "source": [
    "# set numpy print option to show 4 decimal points\n",
    "np.set_printoptions(precision = 4) "
   ]
  },
  {
   "cell_type": "code",
   "execution_count": 107,
   "metadata": {},
   "outputs": [
    {
     "data": {
      "text/plain": [
       "array([[0.5904, 0.5337, 0.9593, 0.9525, 0.8617],\n",
       "       [0.1591, 0.4957, 0.9266, 0.4633, 0.7321],\n",
       "       [0.0162, 0.4549, 0.4022, 0.4604, 0.3491],\n",
       "       [0.9732, 0.067 , 0.1035, 0.5761, 0.172 ],\n",
       "       [0.6637, 0.9123, 0.6458, 0.6525, 0.4237],\n",
       "       [0.7601, 0.9719, 0.6507, 0.2022, 0.8423],\n",
       "       [0.7305, 0.978 , 0.7639, 0.1142, 0.9599]])"
      ]
     },
     "execution_count": 107,
     "metadata": {},
     "output_type": "execute_result"
    }
   ],
   "source": [
    "m2d"
   ]
  },
  {
   "cell_type": "code",
   "execution_count": 108,
   "metadata": {},
   "outputs": [
    {
     "data": {
      "text/plain": [
       "array([-1,  7, 14, 21, 28])"
      ]
     },
     "execution_count": 108,
     "metadata": {},
     "output_type": "execute_result"
    }
   ],
   "source": [
    "vector = np.arange(5)*7\n",
    "vector[0] = -1\n",
    "vector"
   ]
  },
  {
   "cell_type": "code",
   "execution_count": 109,
   "metadata": {},
   "outputs": [
    {
     "data": {
      "text/plain": [
       "array([[-0.5904,  0.0762,  0.0685,  0.0454,  0.0308],\n",
       "       [-0.1591,  0.0708,  0.0662,  0.0221,  0.0261],\n",
       "       [-0.0162,  0.065 ,  0.0287,  0.0219,  0.0125],\n",
       "       [-0.9732,  0.0096,  0.0074,  0.0274,  0.0061],\n",
       "       [-0.6637,  0.1303,  0.0461,  0.0311,  0.0151],\n",
       "       [-0.7601,  0.1388,  0.0465,  0.0096,  0.0301],\n",
       "       [-0.7305,  0.1397,  0.0546,  0.0054,  0.0343]])"
      ]
     },
     "execution_count": 109,
     "metadata": {},
     "output_type": "execute_result"
    }
   ],
   "source": [
    "m2d / vector # division"
   ]
  },
  {
   "cell_type": "code",
   "execution_count": 110,
   "metadata": {},
   "outputs": [
    {
     "data": {
      "text/plain": [
       "array([[-0.4096,  0.5337,  0.9593,  0.9525,  0.8617],\n",
       "       [-0.8409,  0.4957,  0.9266,  0.4633,  0.7321],\n",
       "       [-0.9838,  0.4549,  0.4022,  0.4604,  0.3491],\n",
       "       [-0.0268,  0.067 ,  0.1035,  0.5761,  0.172 ],\n",
       "       [-0.3363,  0.9123,  0.6458,  0.6525,  0.4237],\n",
       "       [-0.2399,  0.9719,  0.6507,  0.2022,  0.8423],\n",
       "       [-0.2695,  0.978 ,  0.7639,  0.1142,  0.9599]])"
      ]
     },
     "execution_count": 110,
     "metadata": {},
     "output_type": "execute_result"
    }
   ],
   "source": [
    "m2d % vector # modulo"
   ]
  },
  {
   "cell_type": "markdown",
   "metadata": {},
   "source": [
    "# Sturctured array"
   ]
  },
  {
   "cell_type": "markdown",
   "metadata": {},
   "source": [
    "## for single dimensional array"
   ]
  },
  {
   "cell_type": "code",
   "execution_count": 111,
   "metadata": {},
   "outputs": [
    {
     "data": {
      "text/plain": [
       "list"
      ]
     },
     "execution_count": 111,
     "metadata": {},
     "output_type": "execute_result"
    }
   ],
   "source": [
    "# make list with specify data type\n",
    "# here name will string do it is S6, height and weight are float so f8\n",
    "# age will int so it is i8. these are np datatype\n",
    "person_data = [('name','S6'),('height','f8'),('weight','f8'),('age','i8')]\n",
    "type(person_data)"
   ]
  },
  {
   "cell_type": "code",
   "execution_count": 112,
   "metadata": {},
   "outputs": [
    {
     "data": {
      "text/plain": [
       "[('name', 'S6'), ('height', 'f8'), ('weight', 'f8'), ('age', 'i8')]"
      ]
     },
     "execution_count": 112,
     "metadata": {},
     "output_type": "execute_result"
    }
   ],
   "source": [
    "person_data"
   ]
  },
  {
   "cell_type": "code",
   "execution_count": 113,
   "metadata": {},
   "outputs": [],
   "source": [
    "# lets create array with np zeros which will of person_data specified datatype\n",
    "person_data_array = np.zeros((4), dtype = person_data)"
   ]
  },
  {
   "cell_type": "code",
   "execution_count": 114,
   "metadata": {},
   "outputs": [
    {
     "data": {
      "text/plain": [
       "array([(b'', 0., 0., 0), (b'', 0., 0., 0), (b'', 0., 0., 0),\n",
       "       (b'', 0., 0., 0)],\n",
       "      dtype=[('name', 'S6'), ('height', '<f8'), ('weight', '<f8'), ('age', '<i8')])"
      ]
     },
     "execution_count": 114,
     "metadata": {},
     "output_type": "execute_result"
    }
   ],
   "source": [
    "# here all the elements of array will be of specified datatype\n",
    "# here b'' is string type, 0., 0. are float and 0 is int\n",
    "person_data_array"
   ]
  },
  {
   "cell_type": "code",
   "execution_count": 115,
   "metadata": {},
   "outputs": [],
   "source": [
    "# lets store data\n",
    "# here 90 will be consider as string type, 34 and 54 will float and 22 will int\n",
    "person_data_array[1] = (90,34,54,22)"
   ]
  },
  {
   "cell_type": "code",
   "execution_count": 116,
   "metadata": {},
   "outputs": [
    {
     "name": "stdout",
     "output_type": "stream",
     "text": [
      "(b'90', 34., 54., 22)\n",
      "<class 'numpy.void'>\n",
      "<class 'numpy.bytes_'>\n",
      "<class 'numpy.float64'>\n",
      "<class 'numpy.float64'>\n",
      "<class 'numpy.int64'>\n"
     ]
    }
   ],
   "source": [
    "# look at type\n",
    "print(person_data_array[1])\n",
    "print(type(person_data_array[1])) # void type\n",
    "print(type(person_data_array[1][0])) # bytes type or string\n",
    "print(type(person_data_array[1][1])) # float\n",
    "print(type(person_data_array[1][2])) # float\n",
    "print(type(person_data_array[1][3])) # int"
   ]
  },
  {
   "cell_type": "code",
   "execution_count": 117,
   "metadata": {},
   "outputs": [],
   "source": [
    "# bytes will of only 6 char. so vrusha will considered for below statement\n",
    "person_data_array[0] = (\"vrushank\",5.6,50.25,50) \n",
    "person_data_array[2] = (\"avi\",4.6,40.25,45)\n",
    "person_data_array[3] = (\"kevin\",3.6,30.25,35)"
   ]
  },
  {
   "cell_type": "code",
   "execution_count": 118,
   "metadata": {},
   "outputs": [
    {
     "data": {
      "text/plain": [
       "array([(b'vrusha',  5.6, 50.25, 50), (b'90', 34. , 54.  , 22),\n",
       "       (b'avi',  4.6, 40.25, 45), (b'kevin',  3.6, 30.25, 35)],\n",
       "      dtype=[('name', 'S6'), ('height', '<f8'), ('weight', '<f8'), ('age', '<i8')])"
      ]
     },
     "execution_count": 118,
     "metadata": {},
     "output_type": "execute_result"
    }
   ],
   "source": [
    "person_data_array"
   ]
  },
  {
   "cell_type": "code",
   "execution_count": 119,
   "metadata": {},
   "outputs": [
    {
     "data": {
      "text/plain": [
       "array([b'vrusha', b'90', b'avi', b'kevin'], dtype='|S6')"
      ]
     },
     "execution_count": 119,
     "metadata": {},
     "output_type": "execute_result"
    }
   ],
   "source": [
    "# lets access only names of array\n",
    "person_data_array[\"name\"]"
   ]
  },
  {
   "cell_type": "code",
   "execution_count": 120,
   "metadata": {},
   "outputs": [
    {
     "data": {
      "text/plain": [
       "array([(b'vrusha', 50), (b'90', 22), (b'avi', 45), (b'kevin', 35)],\n",
       "      dtype={'names':['name','age'], 'formats':['S6','<i8'], 'offsets':[0,22], 'itemsize':30})"
      ]
     },
     "execution_count": 120,
     "metadata": {},
     "output_type": "execute_result"
    }
   ],
   "source": [
    "person_data_array[[\"name\",\"age\"]]"
   ]
  },
  {
   "cell_type": "code",
   "execution_count": 121,
   "metadata": {},
   "outputs": [
    {
     "data": {
      "text/plain": [
       "array([50, 22, 45, 35], dtype=int64)"
      ]
     },
     "execution_count": 121,
     "metadata": {},
     "output_type": "execute_result"
    }
   ],
   "source": [
    "person_data_array[\"age\"]"
   ]
  },
  {
   "cell_type": "code",
   "execution_count": 122,
   "metadata": {},
   "outputs": [
    {
     "data": {
      "text/plain": [
       "array([50.25, 54.  , 40.25, 30.25])"
      ]
     },
     "execution_count": 122,
     "metadata": {},
     "output_type": "execute_result"
    }
   ],
   "source": [
    "person_data_array[\"weight\"]"
   ]
  },
  {
   "cell_type": "code",
   "execution_count": 123,
   "metadata": {},
   "outputs": [
    {
     "data": {
      "text/plain": [
       "array([50250., 54000., 40250., 30250.])"
      ]
     },
     "execution_count": 123,
     "metadata": {},
     "output_type": "execute_result"
    }
   ],
   "source": [
    "# easy division if we want to convert height or weight\n",
    "person_data_array[\"weight\"] * 1000 # convert weight to grams"
   ]
  },
  {
   "cell_type": "code",
   "execution_count": 124,
   "metadata": {},
   "outputs": [
    {
     "name": "stdout",
     "output_type": "stream",
     "text": [
      "[17.7684  0.518  21.093  25.8827]\n"
     ]
    }
   ],
   "source": [
    "# get height in meters\n",
    "height_meters = person_data_array[\"height\"] / 3.33\n",
    "# get BMI\n",
    "bmi = person_data_array[\"weight\"]/pow(height_meters,2)\n",
    "print(bmi) # show BMI of all person"
   ]
  },
  {
   "cell_type": "markdown",
   "metadata": {},
   "source": [
    "## for multi dimensional array"
   ]
  },
  {
   "cell_type": "code",
   "execution_count": 125,
   "metadata": {},
   "outputs": [
    {
     "data": {
      "text/plain": [
       "array([[[(b'', 0., 0., 0), (b'', 0., 0., 0)],\n",
       "        [(b'', 0., 0., 0), (b'', 0., 0., 0)],\n",
       "        [(b'', 0., 0., 0), (b'', 0., 0., 0)]],\n",
       "\n",
       "       [[(b'', 0., 0., 0), (b'', 0., 0., 0)],\n",
       "        [(b'', 0., 0., 0), (b'', 0., 0., 0)],\n",
       "        [(b'', 0., 0., 0), (b'', 0., 0., 0)]],\n",
       "\n",
       "       [[(b'', 0., 0., 0), (b'', 0., 0., 0)],\n",
       "        [(b'', 0., 0., 0), (b'', 0., 0., 0)],\n",
       "        [(b'', 0., 0., 0), (b'', 0., 0., 0)]],\n",
       "\n",
       "       [[(b'', 0., 0., 0), (b'', 0., 0., 0)],\n",
       "        [(b'', 0., 0., 0), (b'', 0., 0., 0)],\n",
       "        [(b'', 0., 0., 0), (b'', 0., 0., 0)]]],\n",
       "      dtype=[('name', 'S6'), ('height', '<f8'), ('weight', '<f8'), ('age', '<i8')])"
      ]
     },
     "execution_count": 125,
     "metadata": {},
     "output_type": "execute_result"
    }
   ],
   "source": [
    "big_array = np.zeros((4,3,2),dtype=person_data)\n",
    "big_array"
   ]
  },
  {
   "cell_type": "code",
   "execution_count": 126,
   "metadata": {},
   "outputs": [
    {
     "data": {
      "text/plain": [
       "array([[[(b'',  0.,   0.,  0), (b'',  0.,   0.,  0)],\n",
       "        [(b'',  0.,   0.,  0), (b'',  0.,   0.,  0)],\n",
       "        [(b'',  0.,   0.,  0), (b'',  0.,   0.,  0)]],\n",
       "\n",
       "       [[(b'',  0.,   0.,  0), (b'',  0.,   0.,  0)],\n",
       "        [(b'',  0.,   0.,  0), (b'',  0.,   0.,  0)],\n",
       "        [(b'',  0.,   0.,  0), (b'',  0.,   0.,  0)]],\n",
       "\n",
       "       [[(b'',  0.,   0.,  0), (b'',  0.,   0.,  0)],\n",
       "        [(b'',  0.,   0.,  0), (b'',  0.,   0.,  0)],\n",
       "        [(b'',  0.,   0.,  0), (b'',  0.,   0.,  0)]],\n",
       "\n",
       "       [[(b'',  0.,   0.,  0), (b'',  0.,   0.,  0)],\n",
       "        [(b'',  0.,   0.,  0), (b'',  0.,   0.,  0)],\n",
       "        [(b'',  0.,   0.,  0), (b'vrp', 68., 105., 46)]]],\n",
       "      dtype=[('name', 'S6'), ('height', '<f8'), ('weight', '<f8'), ('age', '<i8')])"
      ]
     },
     "execution_count": 126,
     "metadata": {},
     "output_type": "execute_result"
    }
   ],
   "source": [
    "big_array[3,2,1] = (\"vrp\",68,105,46)\n",
    "big_array"
   ]
  },
  {
   "cell_type": "code",
   "execution_count": 127,
   "metadata": {},
   "outputs": [
    {
     "data": {
      "text/plain": [
       "array([[[ 0.,  0.],\n",
       "        [ 0.,  0.],\n",
       "        [ 0.,  0.]],\n",
       "\n",
       "       [[ 0.,  0.],\n",
       "        [ 0.,  0.],\n",
       "        [ 0.,  0.]],\n",
       "\n",
       "       [[ 0.,  0.],\n",
       "        [ 0.,  0.],\n",
       "        [ 0.,  0.]],\n",
       "\n",
       "       [[ 0.,  0.],\n",
       "        [ 0.,  0.],\n",
       "        [ 0., 68.]]])"
      ]
     },
     "execution_count": 127,
     "metadata": {},
     "output_type": "execute_result"
    }
   ],
   "source": [
    "big_array[\"height\"]"
   ]
  },
  {
   "cell_type": "code",
   "execution_count": 128,
   "metadata": {},
   "outputs": [
    {
     "data": {
      "text/plain": [
       "array([[[(b'',  0), (b'',  0)],\n",
       "        [(b'',  0), (b'',  0)],\n",
       "        [(b'',  0), (b'',  0)]],\n",
       "\n",
       "       [[(b'',  0), (b'',  0)],\n",
       "        [(b'',  0), (b'',  0)],\n",
       "        [(b'',  0), (b'',  0)]],\n",
       "\n",
       "       [[(b'',  0), (b'',  0)],\n",
       "        [(b'',  0), (b'',  0)],\n",
       "        [(b'',  0), (b'',  0)]],\n",
       "\n",
       "       [[(b'',  0), (b'',  0)],\n",
       "        [(b'',  0), (b'',  0)],\n",
       "        [(b'',  0), (b'vrp', 46)]]],\n",
       "      dtype={'names':['name','age'], 'formats':['S6','<i8'], 'offsets':[0,22], 'itemsize':30})"
      ]
     },
     "execution_count": 128,
     "metadata": {},
     "output_type": "execute_result"
    }
   ],
   "source": [
    "big_array[[\"name\",\"age\"]]"
   ]
  },
  {
   "cell_type": "markdown",
   "metadata": {},
   "source": [
    "# Record array"
   ]
  },
  {
   "cell_type": "code",
   "execution_count": 129,
   "metadata": {},
   "outputs": [
    {
     "data": {
      "text/plain": [
       "rec.array([(b'vrp', 32., 34., 45), (b'avi', 43., 54., 66)],\n",
       "          dtype=[('name', 'S6'), ('height', '<f8'), ('weight', '<f8'), ('age', '<i8')])"
      ]
     },
     "execution_count": 129,
     "metadata": {},
     "output_type": "execute_result"
    }
   ],
   "source": [
    "# like above single dim array, we can create that structured array by another method\n",
    "person_data_array = np.rec.array([('vrp',32,34,45),(\"avi\",43,54,66)],dtype=person_data)\n",
    "person_data_array"
   ]
  },
  {
   "cell_type": "code",
   "execution_count": 130,
   "metadata": {},
   "outputs": [],
   "source": [
    "y,x = np.meshgrid(np.array([5,4,8,5]),np.array([0,2,1,5]))"
   ]
  },
  {
   "cell_type": "code",
   "execution_count": 131,
   "metadata": {},
   "outputs": [
    {
     "data": {
      "text/plain": [
       "array([[0, 0, 0, 0],\n",
       "       [2, 2, 2, 2],\n",
       "       [1, 1, 1, 1],\n",
       "       [5, 5, 5, 5]])"
      ]
     },
     "execution_count": 131,
     "metadata": {},
     "output_type": "execute_result"
    }
   ],
   "source": [
    "x"
   ]
  },
  {
   "cell_type": "code",
   "execution_count": 132,
   "metadata": {},
   "outputs": [
    {
     "data": {
      "text/plain": [
       "array([[5, 4, 8, 5],\n",
       "       [5, 4, 8, 5],\n",
       "       [5, 4, 8, 5],\n",
       "       [5, 4, 8, 5]])"
      ]
     },
     "execution_count": 132,
     "metadata": {},
     "output_type": "execute_result"
    }
   ],
   "source": [
    "y"
   ]
  },
  {
   "cell_type": "markdown",
   "metadata": {},
   "source": [
    "## Finding missing values by numpy"
   ]
  },
  {
   "cell_type": "code",
   "execution_count": 133,
   "metadata": {},
   "outputs": [
    {
     "data": {
      "text/plain": [
       "array([[ 0.,  1.,  2.,  3.,  4.],\n",
       "       [ 5.,  6.,  7.,  8.,  9.],\n",
       "       [10., 11., 12., 13., 14.],\n",
       "       [15., 16., 17., 18., 19.],\n",
       "       [20., 21., 22., 23., 24.],\n",
       "       [25., 26., 27., 28., 29.],\n",
       "       [30., 31., 32., 33., 34.],\n",
       "       [35., 36., 37., 38., 39.],\n",
       "       [40., 41., 42., 43., 44.],\n",
       "       [45., 46., 47., 48., 49.],\n",
       "       [50., 51., 52., 53., 54.],\n",
       "       [55., 56., 57., 58., 59.],\n",
       "       [60., 61., 62., 63., 64.],\n",
       "       [65., 66., 67., 68., 69.]])"
      ]
     },
     "execution_count": 133,
     "metadata": {},
     "output_type": "execute_result"
    }
   ],
   "source": [
    "# make new array with float64\n",
    "x = np.arange(70,dtype=\"float64\")\n",
    "x.shape = (14,5)\n",
    "x"
   ]
  },
  {
   "cell_type": "code",
   "execution_count": 134,
   "metadata": {},
   "outputs": [],
   "source": [
    "# set any two values of array nan and inf\n",
    "x[3,4],x[6][2] = np.inf,np.nan"
   ]
  },
  {
   "cell_type": "code",
   "execution_count": 135,
   "metadata": {},
   "outputs": [
    {
     "data": {
      "text/plain": [
       "array([[False, False, False, False, False],\n",
       "       [False, False, False, False, False],\n",
       "       [False, False, False, False, False],\n",
       "       [False, False, False, False, False],\n",
       "       [False, False, False, False, False],\n",
       "       [False, False, False, False, False],\n",
       "       [False, False,  True, False, False],\n",
       "       [False, False, False, False, False],\n",
       "       [False, False, False, False, False],\n",
       "       [False, False, False, False, False],\n",
       "       [False, False, False, False, False],\n",
       "       [False, False, False, False, False],\n",
       "       [False, False, False, False, False],\n",
       "       [False, False, False, False, False]])"
      ]
     },
     "execution_count": 135,
     "metadata": {},
     "output_type": "execute_result"
    }
   ],
   "source": [
    "np.isnan(x)"
   ]
  },
  {
   "cell_type": "code",
   "execution_count": 136,
   "metadata": {},
   "outputs": [
    {
     "data": {
      "text/plain": [
       "array([[False, False, False, False, False],\n",
       "       [False, False, False, False, False],\n",
       "       [False, False, False, False, False],\n",
       "       [False, False, False, False,  True],\n",
       "       [False, False, False, False, False],\n",
       "       [False, False, False, False, False],\n",
       "       [False, False, False, False, False],\n",
       "       [False, False, False, False, False],\n",
       "       [False, False, False, False, False],\n",
       "       [False, False, False, False, False],\n",
       "       [False, False, False, False, False],\n",
       "       [False, False, False, False, False],\n",
       "       [False, False, False, False, False],\n",
       "       [False, False, False, False, False]])"
      ]
     },
     "execution_count": 136,
     "metadata": {},
     "output_type": "execute_result"
    }
   ],
   "source": [
    "np.isinf(x)"
   ]
  },
  {
   "cell_type": "code",
   "execution_count": 137,
   "metadata": {},
   "outputs": [],
   "source": [
    "# changing inf value of x to nan and nan value of x to inf\n",
    "x[np.where(np.isnan(x))] = np.inf\n",
    "x[np.where(np.isinf(x))] = np.nan"
   ]
  },
  {
   "cell_type": "code",
   "execution_count": 138,
   "metadata": {},
   "outputs": [
    {
     "data": {
      "text/plain": [
       "array([[False, False, False, False, False],\n",
       "       [False, False, False, False, False],\n",
       "       [False, False, False, False, False],\n",
       "       [False, False, False, False,  True],\n",
       "       [False, False, False, False, False],\n",
       "       [False, False, False, False, False],\n",
       "       [False, False,  True, False, False],\n",
       "       [False, False, False, False, False],\n",
       "       [False, False, False, False, False],\n",
       "       [False, False, False, False, False],\n",
       "       [False, False, False, False, False],\n",
       "       [False, False, False, False, False],\n",
       "       [False, False, False, False, False],\n",
       "       [False, False, False, False, False]])"
      ]
     },
     "execution_count": 138,
     "metadata": {},
     "output_type": "execute_result"
    }
   ],
   "source": [
    "# easy to find missing values\n",
    "np.isnan(x)"
   ]
  },
  {
   "cell_type": "code",
   "execution_count": 139,
   "metadata": {},
   "outputs": [
    {
     "data": {
      "text/plain": [
       "array([[False, False, False, False, False],\n",
       "       [False, False, False, False, False],\n",
       "       [False, False, False, False, False],\n",
       "       [False, False, False, False, False],\n",
       "       [False, False, False, False, False],\n",
       "       [False, False, False, False, False],\n",
       "       [False, False, False, False, False],\n",
       "       [False, False, False, False, False],\n",
       "       [False, False, False, False, False],\n",
       "       [False, False, False, False, False],\n",
       "       [False, False, False, False, False],\n",
       "       [False, False, False, False, False],\n",
       "       [False, False, False, False, False],\n",
       "       [False, False, False, False, False]])"
      ]
     },
     "execution_count": 139,
     "metadata": {},
     "output_type": "execute_result"
    }
   ],
   "source": [
    "# too easy to find missing values\n",
    "np.isinf(x)"
   ]
  },
  {
   "cell_type": "code",
   "execution_count": 140,
   "metadata": {},
   "outputs": [],
   "source": [
    "y = np.array([np.array([3,4,5]),np.array([43,23,55]),np.array([54,23,11])])"
   ]
  },
  {
   "cell_type": "code",
   "execution_count": 141,
   "metadata": {},
   "outputs": [
    {
     "data": {
      "text/plain": [
       "array([43, 55, 54])"
      ]
     },
     "execution_count": 141,
     "metadata": {},
     "output_type": "execute_result"
    }
   ],
   "source": [
    "y[np.where(y>35)]"
   ]
  },
  {
   "cell_type": "markdown",
   "metadata": {},
   "source": [
    "# Read excel files in python by pandas"
   ]
  },
  {
   "cell_type": "code",
   "execution_count": 142,
   "metadata": {},
   "outputs": [],
   "source": [
    "import pandas as pd\n",
    "file = pd.ExcelFile(\"Book1.xlsx\") # we can use xls, xlsx, csv etc."
   ]
  },
  {
   "cell_type": "code",
   "execution_count": 143,
   "metadata": {},
   "outputs": [
    {
     "data": {
      "text/plain": [
       "['Sheet1', 'Sheet2']"
      ]
     },
     "execution_count": 143,
     "metadata": {},
     "output_type": "execute_result"
    }
   ],
   "source": [
    "file.sheet_names # get all sheet names in xlsx"
   ]
  },
  {
   "cell_type": "code",
   "execution_count": 144,
   "metadata": {},
   "outputs": [],
   "source": [
    "df1 = file.parse('Sheet1') # lets get data of sheet 1 in data frame"
   ]
  },
  {
   "cell_type": "code",
   "execution_count": 145,
   "metadata": {},
   "outputs": [
    {
     "data": {
      "text/html": [
       "<div>\n",
       "<style scoped>\n",
       "    .dataframe tbody tr th:only-of-type {\n",
       "        vertical-align: middle;\n",
       "    }\n",
       "\n",
       "    .dataframe tbody tr th {\n",
       "        vertical-align: top;\n",
       "    }\n",
       "\n",
       "    .dataframe thead th {\n",
       "        text-align: right;\n",
       "    }\n",
       "</style>\n",
       "<table border=\"1\" class=\"dataframe\">\n",
       "  <thead>\n",
       "    <tr style=\"text-align: right;\">\n",
       "      <th></th>\n",
       "      <th>નવચંડી હવન નો હિસાબ</th>\n",
       "      <th>Unnamed: 1</th>\n",
       "      <th>Unnamed: 2</th>\n",
       "      <th>Unnamed: 3</th>\n",
       "      <th>Unnamed: 4</th>\n",
       "      <th>Unnamed: 5</th>\n",
       "    </tr>\n",
       "  </thead>\n",
       "  <tbody>\n",
       "    <tr>\n",
       "      <th>0</th>\n",
       "      <td>NaN</td>\n",
       "      <td>NaN</td>\n",
       "      <td>NaN</td>\n",
       "      <td>NaN</td>\n",
       "      <td>NaN</td>\n",
       "      <td>NaN</td>\n",
       "    </tr>\n",
       "    <tr>\n",
       "      <th>1</th>\n",
       "      <td>જમા</td>\n",
       "      <td>NaN</td>\n",
       "      <td>NaN</td>\n",
       "      <td>NaN</td>\n",
       "      <td>ઉધાર</td>\n",
       "      <td>NaN</td>\n",
       "    </tr>\n",
       "    <tr>\n",
       "      <th>2</th>\n",
       "      <td>13100/-</td>\n",
       "      <td>હવન ના મેઈન પાટલા નો ચડાવો જીજ્ઞેશભાઈ</td>\n",
       "      <td>A-303</td>\n",
       "      <td>NaN</td>\n",
       "      <td>19769/-</td>\n",
       "      <td>કરિયાણા નું બિલ</td>\n",
       "    </tr>\n",
       "    <tr>\n",
       "      <th>3</th>\n",
       "      <td>3100/-</td>\n",
       "      <td>બીજા પાટલા નો ચડાવો ભરતભાઈ</td>\n",
       "      <td>B-204</td>\n",
       "      <td>NaN</td>\n",
       "      <td>17970/-</td>\n",
       "      <td>હવન નો ખર્ચો</td>\n",
       "    </tr>\n",
       "    <tr>\n",
       "      <th>4</th>\n",
       "      <td>3100/-</td>\n",
       "      <td>ત્રીજા પાટલા નો ચડાવો ગૌતમભાઈ</td>\n",
       "      <td>A-201</td>\n",
       "      <td>NaN</td>\n",
       "      <td>14200/-</td>\n",
       "      <td>રસોઈયાની મજૂરી</td>\n",
       "    </tr>\n",
       "    <tr>\n",
       "      <th>5</th>\n",
       "      <td>3100/-</td>\n",
       "      <td>ચોથા પાટલા નો ચડાવો જયેશભાઇ</td>\n",
       "      <td>A-301</td>\n",
       "      <td>NaN</td>\n",
       "      <td>7500/-</td>\n",
       "      <td>મંડપ નો ખર્ચ</td>\n",
       "    </tr>\n",
       "    <tr>\n",
       "      <th>6</th>\n",
       "      <td>3100/-</td>\n",
       "      <td>પાંચમા પાટલા નો ચડાવો ચિરાગભાઈ</td>\n",
       "      <td>E-303</td>\n",
       "      <td>NaN</td>\n",
       "      <td>6300/-</td>\n",
       "      <td>તેલ ના ડબ્બા ના નંગ-5</td>\n",
       "    </tr>\n",
       "    <tr>\n",
       "      <th>7</th>\n",
       "      <td>6000/-</td>\n",
       "      <td>એક્સ્ટ્રા પાસ ની આવક</td>\n",
       "      <td>NaN</td>\n",
       "      <td>NaN</td>\n",
       "      <td>5300/-</td>\n",
       "      <td>સાગર ઘી 15 કિલો</td>\n",
       "    </tr>\n",
       "  </tbody>\n",
       "</table>\n",
       "</div>"
      ],
      "text/plain": [
       "  નવચંડી હવન નો હિસાબ                              Unnamed: 1 Unnamed: 2  \\\n",
       "0                  NaN                                    NaN        NaN   \n",
       "1                  જમા                                    NaN        NaN   \n",
       "2              13100/-  હવન ના મેઈન પાટલા નો ચડાવો જીજ્ઞેશભાઈ      A-303   \n",
       "3               3100/-            બીજા પાટલા નો ચડાવો ભરતભાઈ       B-204   \n",
       "4               3100/-         ત્રીજા પાટલા નો ચડાવો ગૌતમભાઈ       A-201   \n",
       "5               3100/-           ચોથા પાટલા નો ચડાવો જયેશભાઇ       A-301   \n",
       "6               3100/-        પાંચમા પાટલા નો ચડાવો ચિરાગભાઈ       E-303   \n",
       "7               6000/-                  એક્સ્ટ્રા પાસ ની આવક         NaN   \n",
       "\n",
       "   Unnamed: 3 Unnamed: 4             Unnamed: 5  \n",
       "0         NaN        NaN                    NaN  \n",
       "1         NaN      ઉધાર                     NaN  \n",
       "2         NaN    19769/-       કરિયાણા નું બિલ   \n",
       "3         NaN    17970/-          હવન નો ખર્ચો   \n",
       "4         NaN    14200/-        રસોઈયાની મજૂરી   \n",
       "5         NaN     7500/-          મંડપ નો ખર્ચ   \n",
       "6         NaN     6300/-  તેલ ના ડબ્બા ના નંગ-5  \n",
       "7         NaN     5300/-       સાગર ઘી 15 કિલો   "
      ]
     },
     "execution_count": 145,
     "metadata": {},
     "output_type": "execute_result"
    }
   ],
   "source": [
    "df1 # data"
   ]
  },
  {
   "cell_type": "code",
   "execution_count": 146,
   "metadata": {},
   "outputs": [],
   "source": [
    "df2 = file.parse('Sheet2') # lets get data of sheet 2 in data frame"
   ]
  },
  {
   "cell_type": "code",
   "execution_count": 147,
   "metadata": {},
   "outputs": [
    {
     "data": {
      "text/plain": [
       "pandas.core.frame.DataFrame"
      ]
     },
     "execution_count": 147,
     "metadata": {},
     "output_type": "execute_result"
    }
   ],
   "source": [
    "type(df2)"
   ]
  },
  {
   "cell_type": "code",
   "execution_count": 148,
   "metadata": {},
   "outputs": [
    {
     "data": {
      "text/html": [
       "<div>\n",
       "<style scoped>\n",
       "    .dataframe tbody tr th:only-of-type {\n",
       "        vertical-align: middle;\n",
       "    }\n",
       "\n",
       "    .dataframe tbody tr th {\n",
       "        vertical-align: top;\n",
       "    }\n",
       "\n",
       "    .dataframe thead th {\n",
       "        text-align: right;\n",
       "    }\n",
       "</style>\n",
       "<table border=\"1\" class=\"dataframe\">\n",
       "  <thead>\n",
       "    <tr style=\"text-align: right;\">\n",
       "      <th></th>\n",
       "      <th>id</th>\n",
       "      <th>name</th>\n",
       "      <th>roll</th>\n",
       "      <th>address</th>\n",
       "    </tr>\n",
       "  </thead>\n",
       "  <tbody>\n",
       "    <tr>\n",
       "      <th>0</th>\n",
       "      <td>1</td>\n",
       "      <td>vrushank</td>\n",
       "      <td>1</td>\n",
       "      <td>arav</td>\n",
       "    </tr>\n",
       "    <tr>\n",
       "      <th>1</th>\n",
       "      <td>2</td>\n",
       "      <td>raj</td>\n",
       "      <td>2</td>\n",
       "      <td>adit</td>\n",
       "    </tr>\n",
       "    <tr>\n",
       "      <th>2</th>\n",
       "      <td>3</td>\n",
       "      <td>vidit</td>\n",
       "      <td>3</td>\n",
       "      <td>divit</td>\n",
       "    </tr>\n",
       "  </tbody>\n",
       "</table>\n",
       "</div>"
      ],
      "text/plain": [
       "   id     name   roll address\n",
       "0   1  vrushank     1    arav\n",
       "1   2       raj     2    adit\n",
       "2   3     vidit     3   divit"
      ]
     },
     "execution_count": 148,
     "metadata": {},
     "output_type": "execute_result"
    }
   ],
   "source": [
    "df2"
   ]
  },
  {
   "cell_type": "markdown",
   "metadata": {},
   "source": [
    "# Matplotlib for plotting 2D and 3D graphs"
   ]
  },
  {
   "cell_type": "code",
   "execution_count": 149,
   "metadata": {},
   "outputs": [],
   "source": [
    "import matplotlib.pyplot as plt\n",
    "\n",
    "x = [1.5,2.7,3.8,9.5,12.3]\n",
    "y = [3.8,2.4,0.35,6.2,1.5]"
   ]
  },
  {
   "cell_type": "code",
   "execution_count": 150,
   "metadata": {},
   "outputs": [
    {
     "data": {
      "image/png": "[encoded data removed]",
      "text/plain": [
       "<Figure size 576x432 with 1 Axes>"
      ]
     },
     "metadata": {
      "needs_background": "light"
     },
     "output_type": "display_data"
    }
   ],
   "source": [
    "fig = plt.figure(figsize=(8,6))\n",
    "# for below st. b = blue, p = points, - = continuous line\n",
    "plt.plot(y,x,'bp-',label = \"This plot legend\") # label is legend of first plot\n",
    "# for below st. -> r = red, o = orbit circle, -- = dashed line\n",
    "# we can use (--), (-.), (-), (:) for diff. lines\n",
    "# we can use b, g, r, k, m, y, w, c for built in colors\n",
    "# and lw = line width, ms = marker shape\n",
    "# we can use x, *, p, s, +, o, . (dot) for marker shape ms.\n",
    "plt.plot(x,y,'ro--',label = \"This other plot legend\",lw = 2,ms = 10) # label is legend of this plot\n",
    "plt.title(\"The Title Label\",fontsize = 20) # title of chart with size\n",
    "plt.xlabel(\"The horizontal (x-axis) label\",fontsize = 12)\n",
    "plt.ylabel(\"The vertical (y-axis) label\",fontsize = 15)\n",
    "plt.xticks([-4,5,14],fontsize=20) # ticks on x axis and it's size\n",
    "plt.yticks(fontsize=20) # ticks of y's size only\n",
    "plt.legend(loc = 'best') # give best position to legends\n",
    "plt.show()"
   ]
  }
 ],
 "metadata": {
  "kernelspec": {
   "display_name": "Python 3",
   "language": "python",
   "name": "python3"
  },
  "language_info": {
   "codemirror_mode": {
    "name": "ipython",
    "version": 3
   },
   "file_extension": ".py",
   "mimetype": "text/x-python",
   "name": "python",
   "nbconvert_exporter": "python",
   "pygments_lexer": "ipython3",
   "version": "3.6.4"
  }
 },
 "nbformat": 4,
 "nbformat_minor": 2
}
