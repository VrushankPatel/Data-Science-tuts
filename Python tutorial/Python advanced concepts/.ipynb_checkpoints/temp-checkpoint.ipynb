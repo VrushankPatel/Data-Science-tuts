{
 "cells": [
  {
   "cell_type": "markdown",
   "metadata": {},
   "source": [
    "### Formatted Strings"
   ]
  },
  {
   "cell_type": "code",
   "execution_count": 4,
   "metadata": {
    "tags": []
   },
   "outputs": [],
   "source": [
    "first_name = \"Vrushank\"\n",
    "last_name = \"Patel\"\n",
    "formatted_string = f\"{first_name} {last_name} {len(first_name)} {2 + 3} end\""
   ]
  },
  {
   "cell_type": "code",
   "execution_count": 5,
   "metadata": {
    "tags": []
   },
   "outputs": [
    {
     "name": "stdout",
     "output_type": "stream",
     "text": [
      "Vrushank Patel 8 5 end\n"
     ]
    }
   ],
   "source": [
    "print(formatted_string)"
   ]
  },
  {
   "cell_type": "markdown",
   "metadata": {},
   "source": [
    "#### int, str, bool are immutable in python, if we change the value, it'll allocate new memory to change it.\n",
    "#### list, tuples and other collections are mutable in python, because if we change them, the memory address will be same."
   ]
  },
  {
   "cell_type": "code",
   "execution_count": 6,
   "metadata": {
    "tags": []
   },
   "outputs": [
    {
     "name": "stdout",
     "output_type": "stream",
     "text": [
      "0b100\n",
      "4\n"
     ]
    }
   ],
   "source": [
    "# Binary number\n",
    "binary = 0b0100 # 4\n",
    "print(bin(binary))\n",
    "print(binary)"
   ]
  },
  {
   "cell_type": "code",
   "execution_count": 7,
   "metadata": {
    "tags": []
   },
   "outputs": [
    {
     "name": "stdout",
     "output_type": "stream",
     "text": [
      "0x12\n",
      "18\n"
     ]
    }
   ],
   "source": [
    "# Hexadecimal number\n",
    "x = 0x12\n",
    "print(hex(x))\n",
    "print(x)"
   ]
  },
  {
   "cell_type": "code",
   "execution_count": 8,
   "metadata": {
    "tags": []
   },
   "outputs": [
    {
     "name": "stdout",
     "output_type": "stream",
     "text": [
      "(12+10j)\n",
      "(12+10j)\n"
     ]
    }
   ],
   "source": [
    "# complex numbers\n",
    "x = 12 + 10j\n",
    "print(complex(x))\n",
    "print(x)"
   ]
  },
  {
   "cell_type": "markdown",
   "metadata": {},
   "source": [
    "### For else loop"
   ]
  },
  {
   "cell_type": "code",
   "execution_count": 9,
   "metadata": {
    "tags": []
   },
   "outputs": [
    {
     "name": "stdout",
     "output_type": "stream",
     "text": [
      "Not Found\n"
     ]
    }
   ],
   "source": [
    "# In here, if the if loop does'nt execute for all the iterations, \n",
    "# then python will automatically add the upcoming else block after iterated if statements.\n",
    "# So, else block after for loop, will be executed if the for loop is not breaked using break statement.\n",
    "names = [\"SJohn\", \"Deepak\"]\n",
    "for name in names:\n",
    "    if name.startswith(\"J\"):\n",
    "        print(\"Found\")\n",
    "        break\n",
    "else:\n",
    "    print(\"Not Found\")"
   ]
  },
  {
   "cell_type": "markdown",
   "metadata": {},
   "source": [
    "### While else loop"
   ]
  },
  {
   "cell_type": "code",
   "execution_count": 10,
   "metadata": {
    "tags": []
   },
   "outputs": [
    {
     "name": "stdout",
     "output_type": "stream",
     "text": [
      "Else block, because while is not breaked\n"
     ]
    }
   ],
   "source": [
    "# else block after while loop, will be executed if the while loop is not breaked using break statement.\n",
    "i = 0\n",
    "while i < 5:\n",
    "    i += 1\n",
    "    pass\n",
    "else:\n",
    "    print(\"Else block, because while is not breaked\")\n",
    "    pass\n"
   ]
  },
  {
   "cell_type": "markdown",
   "metadata": {},
   "source": [
    "### Mathematical condition chain"
   ]
  },
  {
   "cell_type": "code",
   "execution_count": 11,
   "metadata": {
    "tags": []
   },
   "outputs": [
    {
     "name": "stdout",
     "output_type": "stream",
     "text": [
      "n is between 2 and 10\n"
     ]
    }
   ],
   "source": [
    "# let's say n should be 2 < n <= 10\n",
    "# then we can write\n",
    "n = 10\n",
    "if 2 <= 3 < 10:\n",
    "    print(\"n is between 2 and 10\")"
   ]
  },
  {
   "cell_type": "markdown",
   "metadata": {},
   "source": [
    "### Type annotated functions"
   ]
  },
  {
   "cell_type": "code",
   "execution_count": 9,
   "metadata": {
    "tags": []
   },
   "outputs": [
    {
     "name": "stdout",
     "output_type": "stream",
     "text": [
      "18\n"
     ]
    }
   ],
   "source": [
    "# here, we can define the data type of arguments, also we can provide the type of return here, so we can't return another type.\n",
    "def increment(number: int, by: int = 8) -> int:\n",
    "    return number + by\n",
    "#print(increment(10, by=3))\n",
    "print(increment(10))"
   ]
  },
  {
   "cell_type": "markdown",
   "metadata": {},
   "source": [
    "### xargs and xxargs in Python"
   ]
  },
  {
   "cell_type": "code",
   "execution_count": 10,
   "metadata": {
    "tags": []
   },
   "outputs": [
    {
     "name": "stdout",
     "output_type": "stream",
     "text": [
      "(3, 4, 5, 6, 7, 3)\n"
     ]
    }
   ],
   "source": [
    "def print_numbers(*nums):  # astrik mark means all the params will stored in tuple\n",
    "    print(nums)\n",
    "\n",
    "print_numbers(3, 4, 5, 6, 7, 3)"
   ]
  },
  {
   "cell_type": "code",
   "execution_count": 11,
   "metadata": {
    "tags": []
   },
   "outputs": [
    {
     "name": "stdout",
     "output_type": "stream",
     "text": [
      "{'id': 12, 'name': 'admin'}\n"
     ]
    }
   ],
   "source": [
    "def save_user(**props): # double strik means it'll take dictionary\n",
    "    print(props)\n",
    "\n",
    "save_user(id=12, name=\"admin\")"
   ]
  },
  {
   "cell_type": "markdown",
   "metadata": {},
   "source": [
    "### Access global var in function"
   ]
  },
  {
   "cell_type": "code",
   "execution_count": 12,
   "metadata": {
    "tags": []
   },
   "outputs": [
    {
     "name": "stdout",
     "output_type": "stream",
     "text": [
      "Hello\n",
      "world\n"
     ]
    }
   ],
   "source": [
    "message = \"Hello\"\n",
    "\n",
    "def temp():\n",
    "    global message\n",
    "    print(message)\n",
    "    message = \"world\"\n",
    "temp()\n",
    "print(message)"
   ]
  },
  {
   "cell_type": "markdown",
   "metadata": {},
   "source": [
    "### List unpacking "
   ]
  },
  {
   "cell_type": "code",
   "execution_count": 13,
   "metadata": {
    "tags": []
   },
   "outputs": [
    {
     "name": "stdout",
     "output_type": "stream",
     "text": [
      "20 30 40\n",
      "10 20 30\n",
      "10 20 [30, 40, 50]\n",
      "10 [20, 30, 40] 50\n"
     ]
    }
   ],
   "source": [
    "# below thing same apply to tuples also\n",
    "lists = [10, 20, 30, 40, 50]\n",
    "second, third, fourth = lists[1:4] # index 1 2 and 3\n",
    "print(second, third, fourth)\n",
    "first, second, third = lists[:3]\n",
    "print(first, second, third)\n",
    "first, second, *other = lists\n",
    "print(first, second, other) # other will be rest of the list\n",
    "first, *other, last = lists\n",
    "print(first, other, last) # other will be rest of the list"
   ]
  },
  {
   "cell_type": "markdown",
   "metadata": {
    "tags": []
   },
   "source": [
    "### enumerate"
   ]
  },
  {
   "cell_type": "code",
   "execution_count": 14,
   "metadata": {
    "tags": []
   },
   "outputs": [
    {
     "name": "stdout",
     "output_type": "stream",
     "text": [
      "(0, 'a')\n",
      "(1, 'b')\n",
      "(2, 'c')\n",
      "0  :  a\n",
      "1  :  b\n",
      "2  :  c\n"
     ]
    }
   ],
   "source": [
    "letters = [\"a\", \"b\", \"c\"]\n",
    "for letter in enumerate(letters): # return tuple in which, first item is index and second is element\n",
    "    print(letter)\n",
    "\n",
    "# insted, we can rtrieve index and element like this\n",
    "for index, letter in enumerate(letters):\n",
    "    print(index , \" : \" , letter)"
   ]
  },
  {
   "cell_type": "markdown",
   "metadata": {},
   "source": [
    "### Sorting the list of tuples by specific value of tuple"
   ]
  },
  {
   "cell_type": "code",
   "execution_count": 15,
   "metadata": {
    "tags": []
   },
   "outputs": [],
   "source": [
    "items = [\n",
    "    (\"item 2\", 10),\n",
    "    (\"item 1\", 6),\n",
    "    (\"item 3\", 8)\n",
    "]"
   ]
  },
  {
   "cell_type": "code",
   "execution_count": 16,
   "metadata": {},
   "outputs": [],
   "source": [
    "# here, we'll return the value from tuple, on which it should be sorted\n",
    "# we'll pass below function in sort function.\n",
    "def sort_item(item):  \n",
    "    return item[1]\n"
   ]
  },
  {
   "cell_type": "code",
   "execution_count": 17,
   "metadata": {
    "tags": []
   },
   "outputs": [
    {
     "name": "stdout",
     "output_type": "stream",
     "text": [
      "[('item 1', 6), ('item 3', 8), ('item 2', 10)]\n"
     ]
    }
   ],
   "source": [
    "# sort function will pass the tuples from list one by one, and \n",
    "items.sort(key=sort_item)\n",
    "print(items)"
   ]
  },
  {
   "cell_type": "markdown",
   "metadata": {},
   "source": [
    "#### above stuff can be written easily by lambda function given below"
   ]
  },
  {
   "cell_type": "code",
   "execution_count": 18,
   "metadata": {},
   "outputs": [],
   "source": [
    "items.sort(key=lambda item : item[1])"
   ]
  },
  {
   "cell_type": "code",
   "execution_count": 19,
   "metadata": {
    "tags": []
   },
   "outputs": [
    {
     "name": "stdout",
     "output_type": "stream",
     "text": [
      "[('item 1', 6), ('item 3', 8), ('item 2', 10)]\n"
     ]
    }
   ],
   "source": [
    "print(items)"
   ]
  },
  {
   "cell_type": "markdown",
   "metadata": {},
   "source": [
    "### Map function"
   ]
  },
  {
   "cell_type": "code",
   "execution_count": 20,
   "metadata": {},
   "outputs": [],
   "source": [
    "items = [\n",
    "    (\"item 2\", 10),\n",
    "    (\"item 1\", 6),\n",
    "    (\"item 3\", 8)\n",
    "]"
   ]
  },
  {
   "cell_type": "markdown",
   "metadata": {},
   "source": [
    "#### our task is to get the list of prices from above items list of tuples. every tuple's second element's list we need."
   ]
  },
  {
   "cell_type": "code",
   "execution_count": 21,
   "metadata": {},
   "outputs": [],
   "source": [
    "# prices = []\n",
    "# for item in items:\n",
    "#     prices.append(item[1])\n",
    "# print(prices) "
   ]
  },
  {
   "cell_type": "markdown",
   "metadata": {},
   "source": [
    "#### insted of writing above logic, we can simply use the map function."
   ]
  },
  {
   "cell_type": "code",
   "execution_count": 22,
   "metadata": {
    "tags": []
   },
   "outputs": [
    {
     "name": "stdout",
     "output_type": "stream",
     "text": [
      "[10, 6, 8]\n"
     ]
    }
   ],
   "source": [
    "items_map = map(lambda item:item[1], items)\n",
    "print(list(items_map))"
   ]
  },
  {
   "cell_type": "markdown",
   "metadata": {},
   "source": [
    "### Filter function"
   ]
  },
  {
   "cell_type": "code",
   "execution_count": 23,
   "metadata": {
    "tags": []
   },
   "outputs": [
    {
     "name": "stdout",
     "output_type": "stream",
     "text": [
      "[('item 2', 10), ('item 3', 8)]\n"
     ]
    }
   ],
   "source": [
    "# as similar to map, suppose we want the items which's price is greater then and equal to 8.\n",
    "filtered = filter(lambda item:item[1] >= 8, items)\n",
    "print(list(filtered))"
   ]
  },
  {
   "cell_type": "code",
   "execution_count": 24,
   "metadata": {
    "tags": []
   },
   "outputs": [
    {
     "name": "stdout",
     "output_type": "stream",
     "text": [
      "[10, 6, 8]\n",
      "[('item 2', 10), ('item 3', 8)]\n"
     ]
    }
   ],
   "source": [
    "# above two task can be easily done by list comprehensions\n",
    "items_price_list = [item[1] for item in items]\n",
    "items_filter = [item for item in items if item[1] >= 8]\n",
    "print(items_price_list)\n",
    "print(items_filter)"
   ]
  },
  {
   "cell_type": "markdown",
   "metadata": {},
   "source": [
    "### Zip function"
   ]
  },
  {
   "cell_type": "code",
   "execution_count": 25,
   "metadata": {},
   "outputs": [],
   "source": [
    "list1 = [10, 20, 30]\n",
    "list2 = [100, 200, 300]\n",
    "# we want to get list like this : [(10, 100), (20, 200), (30, 300)] from above two lists"
   ]
  },
  {
   "cell_type": "code",
   "execution_count": 26,
   "metadata": {
    "tags": []
   },
   "outputs": [
    {
     "name": "stdout",
     "output_type": "stream",
     "text": [
      "[(10, 100), (20, 200), (30, 300)]\n"
     ]
    }
   ],
   "source": [
    "# using zip functions, we can achieve this very easily\n",
    "list3 = zip(list1, list2)\n",
    "print(list(list3))"
   ]
  },
  {
   "cell_type": "code",
   "execution_count": 27,
   "metadata": {
    "tags": []
   },
   "outputs": [
    {
     "name": "stdout",
     "output_type": "stream",
     "text": [
      "[('A', 10, 100), ('B', 20, 200), ('C', 30, 300)]\n"
     ]
    }
   ],
   "source": [
    "# it is also applicable on strings\n",
    "list4 = zip(\"ABC\",list1, list2)\n",
    "print(list(list4))"
   ]
  },
  {
   "cell_type": "markdown",
   "metadata": {},
   "source": [
    "### Queue in python"
   ]
  },
  {
   "cell_type": "code",
   "execution_count": 28,
   "metadata": {
    "tags": []
   },
   "outputs": [
    {
     "name": "stdout",
     "output_type": "stream",
     "text": [
      "deque([1, 2, 3, 4])\n",
      "deque([2, 3, 4])\n"
     ]
    }
   ],
   "source": [
    "from collections import deque\n",
    "queue = deque([])\n",
    "queue.append(1)\n",
    "queue.append(2)\n",
    "queue.append(3)\n",
    "queue.append(4)\n",
    "print(queue)\n",
    "queue.popleft()\n",
    "print(queue)"
   ]
  },
  {
   "cell_type": "markdown",
   "metadata": {},
   "source": [
    "### Arrays in python"
   ]
  },
  {
   "cell_type": "code",
   "execution_count": 29,
   "metadata": {
    "tags": []
   },
   "outputs": [
    {
     "name": "stdout",
     "output_type": "stream",
     "text": [
      "array('i', [1, 2, 3, 4])\n",
      "4\n"
     ]
    }
   ],
   "source": [
    "from array import array\n",
    "\n",
    "# arrays in python are strict, we can't add the multiple type vars in array.\n",
    "numbers = array(\"i\", [1,2,3,4])\n",
    "print(numbers)\n",
    "numbers.append(9)\n",
    "print(numbers[3])"
   ]
  },
  {
   "cell_type": "markdown",
   "metadata": {},
   "source": [
    "### Union and intersection in set"
   ]
  },
  {
   "cell_type": "code",
   "execution_count": 30,
   "metadata": {
    "tags": []
   },
   "outputs": [
    {
     "name": "stdout",
     "output_type": "stream",
     "text": [
      "{1, 2, 3, 4, 9}\n",
      "{2, 4}\n"
     ]
    }
   ],
   "source": [
    "numbers = {1, 2, 3, 4}\n",
    "first = {2, 4, 9}\n",
    "print(numbers | first)\n",
    "print(numbers & first)"
   ]
  },
  {
   "cell_type": "markdown",
   "metadata": {},
   "source": [
    "### return other item if the passed key value doesn't exist in dictionary"
   ]
  },
  {
   "cell_type": "code",
   "execution_count": 31,
   "metadata": {
    "tags": []
   },
   "outputs": [
    {
     "name": "stdout",
     "output_type": "stream",
     "text": [
      "None\n",
      "10\n"
     ]
    }
   ],
   "source": [
    "point = {\"a\":1, \"b\":2, \"c\":3}\n",
    "# if we try to get data from dict like .. point[\"g\"] which doesn't exist, then it'll give error\n",
    "# so to avoid error, we can use get function\n",
    "\n",
    "print(point.get(\"g\"))\n",
    "\n",
    "# or if the data doesn't exist, then we can return default value \n",
    "\n",
    "print(point.get(\"g\", 10))\n"
   ]
  },
  {
   "cell_type": "markdown",
   "metadata": {},
   "source": [
    "### Dictonary comprehensions"
   ]
  },
  {
   "cell_type": "code",
   "execution_count": 32,
   "metadata": {
    "tags": []
   },
   "outputs": [
    {
     "name": "stdout",
     "output_type": "stream",
     "text": [
      "{0: 1, 1: 1, 2: 2, 3: 6, 4: 24, 5: 120, 6: 720, 7: 5040, 8: 40320, 9: 362880}\n"
     ]
    }
   ],
   "source": [
    "import math\n",
    "values = {x : math.factorial(x) for x in range(10)}\n",
    "print(values)"
   ]
  },
  {
   "cell_type": "markdown",
   "metadata": {},
   "source": [
    "### Generators"
   ]
  },
  {
   "cell_type": "code",
   "execution_count": 33,
   "metadata": {
    "tags": []
   },
   "outputs": [
    {
     "name": "stdout",
     "output_type": "stream",
     "text": [
      "Generator : size =  120\n",
      "List : size =  824464\n"
     ]
    }
   ],
   "source": [
    "# generator objects are better then lists comprehensions because they reserve less memory, example is given below\n",
    "from sys import getsizeof\n",
    "\n",
    "# this is generator object given below\n",
    "values = (x * 2 for x in range(100000))\n",
    "print(\"Generator : size = \", getsizeof(values))\n",
    "values = [x * 2 for x in range(100000)]\n",
    "print(\"List : size = \", getsizeof(values))"
   ]
  },
  {
   "cell_type": "markdown",
   "metadata": {},
   "source": [
    "### Unpacking"
   ]
  },
  {
   "cell_type": "code",
   "execution_count": 34,
   "metadata": {
    "tags": []
   },
   "outputs": [
    {
     "name": "stdout",
     "output_type": "stream",
     "text": [
      "[1, 2, 4, 7, 9, 'Temp', 4, 6, 12, 17, 12]\n",
      "[1, 2, 4, 7, 9, 'T', 'e', 'm', 'p', 4, 6, 12, 17, 12]\n"
     ]
    }
   ],
   "source": [
    "first = [1, 2, 4, 7, 9]\n",
    "second = [4, 6, 12, 17]\n",
    "\n",
    "third = [*first, \"Temp\" ,*second, 12]\n",
    "print(third)\n",
    "\n",
    "third = [*first, *\"Temp\" ,*second, 12]  # this will unpach Temp string also\n",
    "print(third)"
   ]
  },
  {
   "cell_type": "code",
   "execution_count": 35,
   "metadata": {
    "tags": []
   },
   "outputs": [
    {
     "name": "stdout",
     "output_type": "stream",
     "text": [
      "{'x': 1, 'f': 9, 13: 't', 'w': 2, 'r': 9}\n"
     ]
    }
   ],
   "source": [
    "# unpacking dictonaries\n",
    "\n",
    "first = {\"x\" : 1}\n",
    "second = {\"w\" : 2, \"r\" : 9}\n",
    "\n",
    "combined = {**first, \"f\" : 9, 13 : \"t\", **second}\n",
    "\n",
    "print(combined)"
   ]
  },
  {
   "cell_type": "markdown",
   "metadata": {},
   "source": [
    "### program to get most repeated char in string"
   ]
  },
  {
   "cell_type": "code",
   "execution_count": 36,
   "metadata": {
    "tags": []
   },
   "outputs": [
    {
     "name": "stdout",
     "output_type": "stream",
     "text": [
      "[('i', 5), (' ', 5), ('s', 3), ('o', 3), ('n', 3), ('e', 3), ('m', 2), ('t', 2), ('T', 1), ('h', 1), ('a', 1), ('c', 1), ('r', 1), ('v', 1), ('w', 1), ('q', 1), ('u', 1)]\n",
      "('i', 5)\n",
      "('i', 5)\n"
     ]
    }
   ],
   "source": [
    "sentense = \"This is a common interview question\"\n",
    "\n",
    "char_frequency = {}\n",
    "\n",
    "for char in sentense:\n",
    "    if char in char_frequency:\n",
    "        char_frequency[char] += 1\n",
    "    else:\n",
    "        char_frequency[char] = 1\n",
    "\n",
    "# frequency is unsorted, we've to sort it\n",
    "char_frequency_sorted = sorted(\n",
    "    char_frequency.items(),\n",
    "    key=lambda itm : itm[1], # itm[1] means we'll sort it by the value because at 0, there will be key.\n",
    "    reverse=True)\n",
    "print(char_frequency_sorted)\n",
    "print(char_frequency_sorted[0]) # most repeated char\n",
    "print(char_frequency_sorted[0]) # most repeated char"
   ]
  },
  {
   "cell_type": "markdown",
   "metadata": {},
   "source": [
    "### Try except else"
   ]
  },
  {
   "cell_type": "code",
   "execution_count": 37,
   "metadata": {
    "tags": []
   },
   "outputs": [
    {
     "name": "stdout",
     "output_type": "stream",
     "text": [
      "Zero division error occured, message is  division by zero\n",
      "this is the finally block\n"
     ]
    }
   ],
   "source": [
    "try:\n",
    "    a = 3 / 0\n",
    "except (ZeroDivisionError, ValueError) as zde: # this is better insted of writing multiple except blocks.\n",
    "    print(\"Zero division error occured, message is \", zde)\n",
    "else:\n",
    "    print(\"No exception is thrown\") # executed if and only if the exception is not thrown and try is executed successfully\n",
    "finally:\n",
    "    print(\"this is the finally block\")"
   ]
  },
  {
   "cell_type": "markdown",
   "metadata": {},
   "source": [
    "### With statement"
   ]
  },
  {
   "cell_type": "code",
   "execution_count": 38,
   "metadata": {},
   "outputs": [],
   "source": [
    "# when we use file management in python, we usually write the logic in try except block, and in finally block, we close file.\n",
    "# using with statement, we don't need to make finally block to close file, python will close the file directly.\n",
    "# like this\n",
    "try:\n",
    "    with open(\"app.py\") as file, open(\"another.txt\") as target:  # opened multiple files\n",
    "        # use file and target variables as file variables\n",
    "        pass\n",
    "except:\n",
    "    pass"
   ]
  },
  {
   "cell_type": "code",
   "execution_count": 39,
   "metadata": {
    "tags": []
   },
   "outputs": [
    {
     "name": "stdout",
     "output_type": "stream",
     "text": [
      "Age can't be negative\n"
     ]
    }
   ],
   "source": [
    "# insted of throw, here we have raise keyword for exception throw.\n",
    "def calculate(age):\n",
    "    if age <= 0:\n",
    "        raise ValueError(\"Age can't be negative\")\n",
    "    return 10 / age\n",
    "\n",
    "try:\n",
    "    calculate(0)\n",
    "except ValueError as error:\n",
    "    print(error)"
   ]
  },
  {
   "cell_type": "markdown",
   "metadata": {},
   "source": [
    "### Cost of raising exception\n"
   ]
  },
  {
   "cell_type": "code",
   "execution_count": 40,
   "metadata": {},
   "outputs": [],
   "source": [
    "# time it package in python provide the ability to analyse the execution time of specific code.\n",
    "# below code 1 is the code where we raise exception\n",
    "code1 = \"\"\"\n",
    "def calculate(age):\n",
    "    if age <= 0:\n",
    "        raise ValueError(\"Age can't be negative\")\n",
    "    return 10 / age\n",
    "\n",
    "try:\n",
    "    calculate(0)\n",
    "except ValueError as error:\n",
    "    pass\n",
    "\"\"\"\n",
    "\n",
    "# below code 2 is the code witout raising exception\n",
    "code2 = \"\"\"\n",
    "def calculate(age):\n",
    "    if age <= 0:        \n",
    "        return\n",
    "    return 10 / age\n",
    "\n",
    "calculate(0)\n",
    "\"\"\""
   ]
  },
  {
   "cell_type": "code",
   "execution_count": 41,
   "metadata": {
    "tags": []
   },
   "outputs": [
    {
     "name": "stdout",
     "output_type": "stream",
     "text": [
      "First code :  0.9670564999978524\n",
      "Second code :  0.3395248000160791\n"
     ]
    }
   ],
   "source": [
    "# now analyse the time of both the codes.\n",
    "from timeit import timeit\n",
    "print(\"First code : \", timeit(code1, number = 1000000)) # it'll run our code 1 10000 times and print seconds for exec.\n",
    "print(\"Second code : \", timeit(code2, number = 1000000)) # it'll run our code 1 10000 times and print seconds for exec."
   ]
  },
  {
   "cell_type": "markdown",
   "metadata": {},
   "source": [
    "#### as we can see, raising the exception is 4 times slower then not raising the exception code.\n",
    "#### so, raise the exception if you really have to, otherwise avoid it."
   ]
  },
  {
   "cell_type": "markdown",
   "metadata": {},
   "source": [
    "### isinstance method with classes and object intro"
   ]
  },
  {
   "cell_type": "code",
   "execution_count": 42,
   "metadata": {
    "tags": []
   },
   "outputs": [
    {
     "name": "stdout",
     "output_type": "stream",
     "text": [
      "True\n",
      "default variable\n",
      "default variable\n",
      "new default\n",
      "new new\n",
      "Point : (1, 6)\n"
     ]
    }
   ],
   "source": [
    "class Point:\n",
    "    default_var = \"default variable\" # this vriable is class level attribute, so we can access it by class name\n",
    "    def __init__(self, x, y):\n",
    "        self.x = x\n",
    "        self.y = y\n",
    "\n",
    "    def draw(self):\n",
    "        print(f\"Point : ({self.x}, {self.y})\")\n",
    "    \n",
    "point = Point(1, 6)\n",
    "print(isinstance(point, Point)) # return true if point is instance of Point class\n",
    "print(Point.default_var)  # accessing the class level variable by class name\n",
    "print(point.default_var)  # accessing the class level variable by object\n",
    "Point.default_var = \"new default\"\n",
    "point.default_var = \"new new\" # for here, the class level vraiable will be changed for this object only.\n",
    "print(Point.default_var)  # accessing the class level variable by class name\n",
    "print(point.default_var)  # accessing the class level variable by object\n",
    "point.draw()"
   ]
  },
  {
   "cell_type": "markdown",
   "metadata": {},
   "source": [
    "### Class methods and other oop concepts in python"
   ]
  },
  {
   "cell_type": "code",
   "execution_count": 43,
   "metadata": {
    "tags": []
   },
   "outputs": [
    {
     "name": "stdout",
     "output_type": "stream",
     "text": [
      "this is te class level method\n",
      "Point : (3, 9)\n",
      "Point : (3, 9)\n",
      "True\n",
      "False\n",
      "False\n",
      "Point : (4, 11)\n",
      "Point : (2, 7)\n",
      "Point : (3, 18)\n"
     ]
    }
   ],
   "source": [
    "class Point:\n",
    "    default_var = \"default variable\" # this vriable is class level attribute, so we can access it by class name\n",
    "    def __init__(self, x, y):\n",
    "        self.x = x\n",
    "        self.y = y\n",
    "\n",
    "    @classmethod # this is the python decorator like annotation in java.\n",
    "    def zero(cls):\n",
    "        print(\"this is te class level method\")\n",
    "        return Point(3,9)\n",
    "\n",
    "    # like toString() method in java, we've __str__ in python\n",
    "    def __str__(self):\n",
    "        return f\"Point : ({self.x}, {self.y})\"\n",
    "\n",
    "    # to compare two objects, in C++ we were using operator overloading, here, we can override these methods\n",
    "    def __eq__(self, other):  # check if object is equal to other which is passed or not\n",
    "        return self.x == other.x and self.y == other.y\n",
    "\n",
    "    def __gt__(self, other):  # check if object is greater then other which is passed or not\n",
    "        return self.x > other.x and self.y > other.y\n",
    "\n",
    "    # to perform arithmatic operations, there are some methods which we can override\n",
    "    def __add__(self, other):\n",
    "        return Point(self.x + other.x, self.y + other.y)\n",
    "    \n",
    "    def __sub__(self, other):\n",
    "        return Point(self.x - other.x, self.y - other.y)\n",
    "\n",
    "    def __mul__(self, other):\n",
    "        return Point(self.x * other.x, self.y * other.y)    \n",
    "\n",
    "    def draw(self):\n",
    "        print(f\"Point : ({self.x}, {self.y})\")\n",
    "    \n",
    "point = Point.zero()\n",
    "point.draw()\n",
    "print(point) # __str__ is called\n",
    "other = Point(1, 2)\n",
    "print(point > other) # __gt__ called\n",
    "print(point == other) # __eq__ called\n",
    "print(point < other) # __gt__ called but in inversion\n",
    "print(point + other) # __add__ called\n",
    "print(point - other) # __sub__ called\n",
    "print(point * other) # __sub__ called\n"
   ]
  },
  {
   "cell_type": "markdown",
   "metadata": {},
   "source": [
    "### Private members"
   ]
  },
  {
   "cell_type": "code",
   "execution_count": 44,
   "metadata": {
    "tags": []
   },
   "outputs": [
    {
     "name": "stdout",
     "output_type": "stream",
     "text": [
      "x :  12 \n",
      "y :  19\n"
     ]
    }
   ],
   "source": [
    "class Point:\n",
    "    def __init__(self):\n",
    "        self.__x = 12\n",
    "        self.__y = 19\n",
    "\n",
    "    def draw(self):\n",
    "        print(\"x : \" , self.__x, \"\\ny : \" , self.__y)\n",
    "\n",
    "point = Point()\n",
    "point.draw()\n",
    "# print(point.__x, point.__y)  # we can't access them now, because they are private. this line will occur error"
   ]
  },
  {
   "cell_type": "markdown",
   "metadata": {},
   "source": [
    "### Creating getters and setters and making them abstract by property method and decorator"
   ]
  },
  {
   "cell_type": "code",
   "execution_count": 45,
   "metadata": {
    "tags": []
   },
   "outputs": [
    {
     "name": "stdout",
     "output_type": "stream",
     "text": [
      "900\n"
     ]
    }
   ],
   "source": [
    "class Product:\n",
    "    def __init__(self, price):\n",
    "        self.set_price(price)\n",
    "    \n",
    "    def get_price(self):\n",
    "        return self.__price\n",
    "\n",
    "    def set_price(self, value):\n",
    "        if value < 0:\n",
    "            raise ValueError(\"price can't be negative\")\n",
    "        self.__price = value\n",
    "    \n",
    "    # we are using __price variable, and __price and price are different from each other\n",
    "    price = property(get_price, set_price) # by this, we registered getter and setter with price, we can now access getter and setter by price directly.\n",
    "\n",
    "product = Product(100)\n",
    "product.price = 900 # it'll automatically call the set_price method internally\n",
    "print(product.price) # it'll automatically call the get_price method internally"
   ]
  },
  {
   "cell_type": "code",
   "execution_count": 46,
   "metadata": {
    "tags": []
   },
   "outputs": [
    {
     "name": "stdout",
     "output_type": "stream",
     "text": [
      "900\n"
     ]
    }
   ],
   "source": [
    "# above program can be easily written with property decorator\n",
    "\n",
    "class Product:\n",
    "    def __init__(self, price):\n",
    "        self.price = price # setter will called\n",
    "    \n",
    "    @property\n",
    "    def price(self): # it'll create getter automatically\n",
    "        return self.__price\n",
    "\n",
    "    @price.setter\n",
    "    def price(self, value): # it'll automatically create the setter by price.estter, and we just registered the price method above.\n",
    "        if value < 0:\n",
    "            raise ValueError(\"price can't be negative\")\n",
    "        self.__price = value\n",
    "\n",
    "product = Product(100)\n",
    "product.price = 900 # setter called\n",
    "print(product.price) # it'll automatically call the get_price method internally"
   ]
  },
  {
   "cell_type": "code",
   "execution_count": 47,
   "metadata": {},
   "outputs": [
    {
     "ename": "AttributeError",
     "evalue": "can't set attribute",
     "output_type": "error",
     "traceback": [
      "\u001b[1;31m---------------------------------------------------------------------------\u001b[0m",
      "\u001b[1;31mAttributeError\u001b[0m                            Traceback (most recent call last)",
      "\u001b[1;32m<ipython-input-47-1e2fab154cce>\u001b[0m in \u001b[0;36m<module>\u001b[1;34m\u001b[0m\n\u001b[0;32m     10\u001b[0m         \u001b[1;32mreturn\u001b[0m \u001b[0mself\u001b[0m\u001b[1;33m.\u001b[0m\u001b[0m__price\u001b[0m\u001b[1;33m\u001b[0m\u001b[1;33m\u001b[0m\u001b[0m\n\u001b[0;32m     11\u001b[0m \u001b[1;33m\u001b[0m\u001b[0m\n\u001b[1;32m---> 12\u001b[1;33m \u001b[0mproduct\u001b[0m \u001b[1;33m=\u001b[0m \u001b[0mProduct\u001b[0m\u001b[1;33m(\u001b[0m\u001b[1;36m100\u001b[0m\u001b[1;33m)\u001b[0m\u001b[1;33m\u001b[0m\u001b[1;33m\u001b[0m\u001b[0m\n\u001b[0m\u001b[0;32m     13\u001b[0m \u001b[0mproduct\u001b[0m\u001b[1;33m.\u001b[0m\u001b[0mprice\u001b[0m \u001b[1;33m=\u001b[0m \u001b[1;36m900\u001b[0m \u001b[1;31m# setter called, so it'll occur error.\u001b[0m\u001b[1;33m\u001b[0m\u001b[1;33m\u001b[0m\u001b[0m\n\u001b[0;32m     14\u001b[0m \u001b[0mprint\u001b[0m\u001b[1;33m(\u001b[0m\u001b[0mproduct\u001b[0m\u001b[1;33m.\u001b[0m\u001b[0mprice\u001b[0m\u001b[1;33m)\u001b[0m \u001b[1;31m# it'll automatically call the get_price method internally\u001b[0m\u001b[1;33m\u001b[0m\u001b[1;33m\u001b[0m\u001b[0m\n",
      "\u001b[1;32m<ipython-input-47-1e2fab154cce>\u001b[0m in \u001b[0;36m__init__\u001b[1;34m(self, price)\u001b[0m\n\u001b[0;32m      4\u001b[0m \u001b[1;32mclass\u001b[0m \u001b[0mProduct\u001b[0m\u001b[1;33m:\u001b[0m\u001b[1;33m\u001b[0m\u001b[1;33m\u001b[0m\u001b[0m\n\u001b[0;32m      5\u001b[0m     \u001b[1;32mdef\u001b[0m \u001b[0m__init__\u001b[0m\u001b[1;33m(\u001b[0m\u001b[0mself\u001b[0m\u001b[1;33m,\u001b[0m \u001b[0mprice\u001b[0m\u001b[1;33m)\u001b[0m\u001b[1;33m:\u001b[0m\u001b[1;33m\u001b[0m\u001b[1;33m\u001b[0m\u001b[0m\n\u001b[1;32m----> 6\u001b[1;33m         \u001b[0mself\u001b[0m\u001b[1;33m.\u001b[0m\u001b[0mprice\u001b[0m \u001b[1;33m=\u001b[0m \u001b[0mprice\u001b[0m \u001b[1;31m# setter will called, first time, it'll instintiate the value\u001b[0m\u001b[1;33m\u001b[0m\u001b[1;33m\u001b[0m\u001b[0m\n\u001b[0m\u001b[0;32m      7\u001b[0m \u001b[1;33m\u001b[0m\u001b[0m\n\u001b[0;32m      8\u001b[0m     \u001b[1;33m@\u001b[0m\u001b[0mproperty\u001b[0m\u001b[1;33m\u001b[0m\u001b[1;33m\u001b[0m\u001b[0m\n",
      "\u001b[1;31mAttributeError\u001b[0m: can't set attribute"
     ]
    }
   ],
   "source": [
    "# to make above program with read only property, just remove the setter part, the price will be read only property, it'll defined by constructor only.\n",
    "# above program can be easily written with property decorator\n",
    "\n",
    "class Product:\n",
    "    def __init__(self, price):\n",
    "        self.price = price # setter will called, first time, it'll instintiate the value\n",
    "    \n",
    "    @property\n",
    "    def price(self): # it'll create getter automatically\n",
    "        return self.__price\n",
    "\n",
    "product = Product(100)\n",
    "product.price = 900 # setter called, so it'll occur error.\n",
    "print(product.price) # it'll automatically call the get_price method internally"
   ]
  },
  {
   "cell_type": "markdown",
   "metadata": {},
   "source": [
    "### Every classes we create in python, inherit the object class by default."
   ]
  },
  {
   "cell_type": "markdown",
   "metadata": {},
   "source": [
    "### Abstract class"
   ]
  },
  {
   "cell_type": "code",
   "execution_count": 50,
   "metadata": {
    "tags": []
   },
   "outputs": [
    {
     "name": "stdout",
     "output_type": "stream",
     "text": [
      "abstract method called\n"
     ]
    }
   ],
   "source": [
    "from abc import ABC, abstractmethod\n",
    "\n",
    "# ABC means Abstract Base Class\n",
    "class AbstractExample(ABC):\n",
    "\n",
    "    @abstractmethod\n",
    "    def abstract_method(self):\n",
    "        # print(\"somethind\") # this statement will give error, that abstract methods can't have body\n",
    "        pass\n",
    "\n",
    "class ChildExample(AbstractExample):\n",
    "    \n",
    "    def abstract_method(self):\n",
    "        print(\"abstract method called\")\n",
    "\n",
    "\n",
    "child = ChildExample()\n",
    "child.abstract_method()"
   ]
  },
  {
   "cell_type": "markdown",
   "metadata": {},
   "source": [
    "### Working with paths"
   ]
  },
  {
   "cell_type": "code",
   "execution_count": 48,
   "metadata": {},
   "outputs": [],
   "source": [
    "from pathlib import Path\n",
    "\n",
    "path = Path(\"C:\\\\Program Files\\\\Microsoft\") # windows\n",
    "path = Path(r\"C:\\Program Files\\Microsoft\") # windows get rid of two slashes\n",
    "path = Path(\"/usr/local/bin\") # mac / linux"
   ]
  },
  {
   "cell_type": "code",
   "execution_count": 49,
   "metadata": {
    "tags": []
   },
   "outputs": [
    {
     "name": "stdout",
     "output_type": "stream",
     "text": [
      "temp\\temp.py\n"
     ]
    }
   ],
   "source": [
    "path = Path(\"temp/temp.py\")\n",
    "# or\n",
    "path = Path(\"temp\") / Path(\"temp.py\")\n",
    "# or\n",
    "path = Path(\"temp\") / \"temp.py\"\n",
    "print(path)"
   ]
  },
  {
   "cell_type": "code",
   "execution_count": 52,
   "metadata": {},
   "outputs": [
    {
     "data": {
      "text/plain": [
       "True"
      ]
     },
     "execution_count": 52,
     "metadata": {},
     "output_type": "execute_result"
    }
   ],
   "source": [
    "path.exists()"
   ]
  },
  {
   "cell_type": "code",
   "execution_count": 53,
   "metadata": {},
   "outputs": [
    {
     "data": {
      "text/plain": [
       "False"
      ]
     },
     "execution_count": 53,
     "metadata": {},
     "output_type": "execute_result"
    }
   ],
   "source": [
    "path.is_dir()"
   ]
  },
  {
   "cell_type": "code",
   "execution_count": 54,
   "metadata": {},
   "outputs": [
    {
     "data": {
      "text/plain": [
       "True"
      ]
     },
     "execution_count": 54,
     "metadata": {},
     "output_type": "execute_result"
    }
   ],
   "source": [
    "path.is_file()"
   ]
  },
  {
   "cell_type": "code",
   "execution_count": 61,
   "metadata": {},
   "outputs": [],
   "source": [
    "path.mkdir() # will create temp.py named directory if not exists"
   ]
  },
  {
   "cell_type": "code",
   "execution_count": 22,
   "metadata": {},
   "outputs": [
    {
     "name": "stdout",
     "output_type": "stream",
     "text": [
      "Reset css and font defaults in:\n",
      "C:\\Users\\Vrushank.Patel\\.jupyter\\custom &\n",
      "C:\\Users\\Vrushank.Patel\\AppData\\Roaming\\jupyter\\nbextensions\n"
     ]
    }
   ],
   "source": [
    "!jt -r"
   ]
  },
  {
   "cell_type": "code",
   "execution_count": 13,
   "metadata": {},
   "outputs": [
    {
     "name": "stdout",
     "output_type": "stream",
     "text": [
      "2018-01-01\n",
      "2018-01-01 00:00:00\n"
     ]
    }
   ],
   "source": [
    "from datetime import datetime\n",
    "\n",
    "dt = datetime(2018, 1, 1)\n",
    "print(dt.date())\n",
    "print(dt)"
   ]
  },
  {
   "cell_type": "code",
   "execution_count": 14,
   "metadata": {},
   "outputs": [
    {
     "data": {
      "text/plain": [
       "datetime.datetime(2020, 7, 23, 13, 33, 44, 469095)"
      ]
     },
     "execution_count": 14,
     "metadata": {},
     "output_type": "execute_result"
    }
   ],
   "source": [
    "dt = datetime.now()\n",
    "dt"
   ]
  },
  {
   "cell_type": "code",
   "execution_count": 15,
   "metadata": {},
   "outputs": [
    {
     "data": {
      "text/plain": [
       "datetime.date(2020, 7, 23)"
      ]
     },
     "execution_count": 15,
     "metadata": {},
     "output_type": "execute_result"
    }
   ],
   "source": [
    "dt = datetime.strptime(\"2020/07/23\",\"%Y/%m/%d\")\n",
    "dt.date()"
   ]
  },
  {
   "cell_type": "code",
   "execution_count": 23,
   "metadata": {},
   "outputs": [
    {
     "name": "stdout",
     "output_type": "stream",
     "text": [
      "13:35:10.118226\n",
      "2020-07-23\n",
      "2020/7\n"
     ]
    }
   ],
   "source": [
    "import time\n",
    "\n",
    "dt = datetime.fromtimestamp(time.time())\n",
    "print(dt.time())\n",
    "print(dt.date())\n",
    "print(f\"{dt.year}/{dt.month}\")"
   ]
  },
  {
   "cell_type": "code",
   "execution_count": 24,
   "metadata": {},
   "outputs": [
    {
     "name": "stdout",
     "output_type": "stream",
     "text": [
      "2020/07\n"
     ]
    }
   ],
   "source": [
    "print(dt.strftime(\"%Y/%m\"))"
   ]
  },
  {
   "cell_type": "code",
   "execution_count": 25,
   "metadata": {},
   "outputs": [],
   "source": [
    "from datetime import datetime, timedelta\n",
    "\n",
    "date1 = datetime(2018, 1, 1)\n",
    "date2 = datetime.now()"
   ]
  },
  {
   "cell_type": "code",
   "execution_count": 30,
   "metadata": {},
   "outputs": [
    {
     "name": "stdout",
     "output_type": "stream",
     "text": [
      "934 days, 13:36:44.653754\n"
     ]
    }
   ],
   "source": [
    "duration = date2 - date1\n",
    "print(duration)"
   ]
  },
  {
   "cell_type": "code",
   "execution_count": 38,
   "metadata": {},
   "outputs": [
    {
     "name": "stdout",
     "output_type": "stream",
     "text": [
      "days : 934\n",
      "total seconds : 80746604.653754\n"
     ]
    }
   ],
   "source": [
    "print(f\"days : {duration.days}\")\n",
    "print(f\"total seconds : {duration.total_seconds()}\")"
   ]
  },
  {
   "cell_type": "code",
   "execution_count": 39,
   "metadata": {},
   "outputs": [
    {
     "data": {
      "text/plain": [
       "datetime.datetime(2018, 1, 2, 0, 16, 40)"
      ]
     },
     "execution_count": 39,
     "metadata": {},
     "output_type": "execute_result"
    }
   ],
   "source": [
    "date1 = datetime(2018, 1, 1) + timedelta(days=1, seconds=1000)\n",
    "date1"
   ]
  },
  {
   "cell_type": "markdown",
   "metadata": {},
   "source": [
    "### Randoms in python"
   ]
  },
  {
   "cell_type": "code",
   "execution_count": 58,
   "metadata": {},
   "outputs": [
    {
     "name": "stdout",
     "output_type": "stream",
     "text": [
      "0.2585619420841101\n",
      "5\n",
      "4\n",
      "[4, 9, 7]\n",
      "['i', 'j', 'w', 'k']\n",
      "bliba\n",
      "TvXyTtOqS\n",
      "megaqy\n",
      "QJL\n",
      "991020\n"
     ]
    }
   ],
   "source": [
    "import random\n",
    "import string \n",
    "\n",
    "print(random.random())\n",
    "print(random.randint(1, 10))\n",
    "print(random.choice([1,4,5,6]))\n",
    "print(random.choices([1,4,2,7,9,6], k = 3))\n",
    "print(random.choices(\"abepwosliakj\", k = 4))\n",
    "print(\"\".join(random.choices(\"abepwosliakj\", k = 5)))\n",
    "print(\"\".join(random.choices(string.ascii_letters, k = 9)))\n",
    "print(\"\".join(random.choices(string.ascii_lowercase, k = 6)))\n",
    "print(\"\".join(random.choices(string.ascii_uppercase, k = 3)))\n",
    "print(\"\".join(random.choices(string.digits, k = 6)))\n"
   ]
  },
  {
   "cell_type": "code",
   "execution_count": 62,
   "metadata": {},
   "outputs": [
    {
     "name": "stdout",
     "output_type": "stream",
     "text": [
      "[3, 6, 8, 1]\n"
     ]
    }
   ],
   "source": [
    "lis = [1,3,6,8]\n",
    "random.shuffle(lis)\n",
    "print(lis)"
   ]
  },
  {
   "cell_type": "markdown",
   "metadata": {},
   "source": [
    "### Opening browser in python"
   ]
  },
  {
   "cell_type": "code",
   "execution_count": 65,
   "metadata": {},
   "outputs": [
    {
     "data": {
      "text/plain": [
       "True"
      ]
     },
     "execution_count": 65,
     "metadata": {},
     "output_type": "execute_result"
    }
   ],
   "source": [
    "import webbrowser\n",
    "\n",
    "webbrowser.open(\"http://vrushank.ml\")"
   ]
  },
  {
   "cell_type": "markdown",
   "metadata": {},
   "source": [
    "### sending emails with python"
   ]
  },
  {
   "cell_type": "code",
   "execution_count": 86,
   "metadata": {},
   "outputs": [
    {
     "name": "stdout",
     "output_type": "stream",
     "text": [
      "sent...\n"
     ]
    }
   ],
   "source": [
    "from email.mime.multipart import MIMEMultipart\n",
    "from email.mime.text import MIMEText\n",
    "import smtplib\n",
    "\n",
    "message = MIMEMultipart()\n",
    "\n",
    "message[\"from\"] = \"vrushank\"\n",
    "message[\"to\"] = \"avipatel8224@gmail.com\"\n",
    "message[\"subject\"] = \"testing subject\"\n",
    "message.attach(MIMEText(\"This is the test body.\"))\n",
    "\n",
    "with smtplib.SMTP(host=\"smtp.gmail.com\", port=587) as smtp:\n",
    "    smtp.ehlo()\n",
    "    smtp.starttls()\n",
    "    smtp.login(\"avinuaws@gmail.com\", \"Avi@2000\")\n",
    "    smtp.send_message(message)\n",
    "    print(\"sent...\")"
   ]
  },
  {
   "cell_type": "code",
   "execution_count": null,
   "metadata": {},
   "outputs": [],
   "source": [
    "# emails with image and html templates\n",
    "from email.mime.multipart import MIMEMultipart\n",
    "from email.mime.text import MIMEText\n",
    "from email.mime.image import MIMEImage\n",
    "from pathlib import Path\n",
    "from string import Template\n",
    "import smtplib\n",
    "\n",
    "\n",
    "template = Template(Path(\"template.html\".read_txt()))\n",
    "\n",
    "message = MIMEMultipart()\n",
    "message[\"from\"] = \"vrushank\"\n",
    "message[\"to\"] = \"avipatel8224@gmail.com\"\n",
    "message[\"subject\"] = \"testing subject\"\n",
    "body = template.substitute({\"name\" : \"vrushank\"})\n",
    "message.attach(MIMEText(body, \"html\"))\n",
    "message.attach(MIMEImage(Path(\"vrushank.jpg\").read_bytes()))\n",
    "\n",
    "\n",
    "with smtplib.SMTP(host=\"smtp.gmail.com\", port=587) as smtp:\n",
    "    smtp.ehlo()\n",
    "    smtp.starttls()\n",
    "    smtp.login(\"avinuaws@gmail.com\", \"Avi@2000\")\n",
    "    smtp.send_message(message)\n",
    "    print(\"sent...\")"
   ]
  }
 ],
 "metadata": {
  "kernelspec": {
   "display_name": "Python 3",
   "language": "python",
   "name": "python3"
  },
  "language_info": {
   "codemirror_mode": {
    "name": "ipython",
    "version": 3
   },
   "file_extension": ".py",
   "mimetype": "text/x-python",
   "name": "python",
   "nbconvert_exporter": "python",
   "pygments_lexer": "ipython3",
   "version": "3.7.4"
  }
 },
 "nbformat": 4,
 "nbformat_minor": 2
}
