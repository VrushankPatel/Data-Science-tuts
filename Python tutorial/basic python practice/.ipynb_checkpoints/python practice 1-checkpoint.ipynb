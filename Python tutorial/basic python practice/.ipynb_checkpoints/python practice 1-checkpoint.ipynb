{
 "cells": [
  {
   "cell_type": "code",
   "execution_count": 1,
   "metadata": {},
   "outputs": [
    {
     "name": "stdout",
     "output_type": "stream",
     "text": [
      "[1, 2, 3, 3, 3, 4, 5, 5, 6, 8]\n"
     ]
    }
   ],
   "source": [
    "a = [3,2,5,4,3,1,8,5,6,3]\n",
    "print(sorted(a))"
   ]
  },
  {
   "cell_type": "code",
   "execution_count": 2,
   "metadata": {},
   "outputs": [
    {
     "name": "stdout",
     "output_type": "stream",
     "text": [
      "['a', 'a', 'e', 'h', 'k', 'l', 'n', 'p', 'r', 's', 't', 'u', 'v']\n",
      "['v', 'u', 't', 's', 'r', 'p', 'n', 'l', 'k', 'h', 'e', 'a', 'a']\n"
     ]
    }
   ],
   "source": [
    "a = \"vrushankpatel\"\n",
    "print(sorted(a))\n",
    "print(sorted(a,reverse=True))"
   ]
  },
  {
   "cell_type": "code",
   "execution_count": 3,
   "metadata": {},
   "outputs": [
    {
     "name": "stdout",
     "output_type": "stream",
     "text": [
      "['A', 'BB', 'EE', 'CCC', 'ccc', 'DDDD', 'eeeee', 'DDDDDD']\n",
      "['A', 'BB', 'CCC', 'ccc', 'DDDD', 'DDDDDD', 'EE', 'eeeee']\n",
      "['A', 'BB', 'CCC', 'ccc', 'DDDD', 'DDDDDD', 'EE', 'eeeee']\n"
     ]
    }
   ],
   "source": [
    "a = [\"eeeee\",\"CCC\",\"BB\",\"DDDDDD\",\"ccc\",\"A\",\"DDDD\",\"EE\"]\n",
    "print(sorted(a,key=len)) # lengthwise sorting\n",
    "print(sorted(a,key=str.lower))\n",
    "print(sorted(a,key=str.capitalize))"
   ]
  },
  {
   "cell_type": "code",
   "execution_count": 4,
   "metadata": {},
   "outputs": [
    {
     "name": "stdout",
     "output_type": "stream",
     "text": [
      "['wa', 'zb', 'xc', 'yd']\n"
     ]
    }
   ],
   "source": [
    "def MyFn(s):\n",
    "    return s[-1] # reversed string return\n",
    "strs = ['xc', 'zb', 'yd' ,'wa']\n",
    "print(sorted(strs, key=MyFn)) # passing function as key"
   ]
  },
  {
   "cell_type": "code",
   "execution_count": 5,
   "metadata": {},
   "outputs": [
    {
     "data": {
      "text/plain": [
       "[1, 4, 9, 16]"
      ]
     },
     "execution_count": 5,
     "metadata": {},
     "output_type": "execute_result"
    }
   ],
   "source": [
    "nums = [1, 2, 3, 4]\n",
    "[ n * n for n in nums ]   ## [1, 4, 9, 16]"
   ]
  },
  {
   "cell_type": "code",
   "execution_count": 6,
   "metadata": {},
   "outputs": [
    {
     "data": {
      "text/plain": [
       "['HELLO!!!', 'AND!!!', 'GOODBYE!!!']"
      ]
     },
     "execution_count": 6,
     "metadata": {},
     "output_type": "execute_result"
    }
   ],
   "source": [
    "strs = ['hello', 'and', 'goodbye']\n",
    "[ s.upper() + '!!!' for s in strs ] ## ['HELLO!!!', 'AND!!!', 'GOODBYE!!!']"
   ]
  },
  {
   "cell_type": "code",
   "execution_count": 7,
   "metadata": {},
   "outputs": [
    {
     "data": {
      "text/plain": [
       "[2, 1]"
      ]
     },
     "execution_count": 7,
     "metadata": {},
     "output_type": "execute_result"
    }
   ],
   "source": [
    "## Select values <= 2\n",
    "nums = [2, 8, 1, 6]\n",
    "[ n for n in nums if n <= 2 ]  ## [2, 1]"
   ]
  },
  {
   "cell_type": "code",
   "execution_count": 8,
   "metadata": {},
   "outputs": [
    {
     "data": {
      "text/plain": [
       "['APPLE', 'BANANA']"
      ]
     },
     "execution_count": 8,
     "metadata": {},
     "output_type": "execute_result"
    }
   ],
   "source": [
    "## Select fruits containing 'a', change to upper case\n",
    "fruits = ['apple', 'cherry', 'banana', 'lemon']\n",
    "[ s.upper() for s in fruits if 'a' in s ] ## ['APPLE', 'BANANA']"
   ]
  },
  {
   "cell_type": "code",
   "execution_count": 9,
   "metadata": {},
   "outputs": [
    {
     "name": "stdout",
     "output_type": "stream",
     "text": [
      "found word:cat\n"
     ]
    }
   ],
   "source": [
    "# regular expression\n",
    "import re\n",
    "str = 'an example word:cat!! 123:'\n",
    "match = re.search(r'word:\\w\\w\\w', str) # this will find \"word:[3 letter word]\" in str\n",
    "# If-statement after search() tests if it succeeded\n",
    "if match:\n",
    "  print('found', match.group()) ## 'found word:cat'\n",
    "else:\n",
    "  print('did not find')"
   ]
  },
  {
   "cell_type": "code",
   "execution_count": 10,
   "metadata": {},
   "outputs": [
    {
     "name": "stdout",
     "output_type": "stream",
     "text": [
      "found 123:\n"
     ]
    }
   ],
   "source": [
    "match = re.search(r'\\d\\d\\d:', str) # this will find \"[3 digits]:\" in str\n",
    "if match:\n",
    "  print('found', match.group()) ## 'found word:cat'\n",
    "else:\n",
    "  print('did not find')"
   ]
  },
  {
   "cell_type": "code",
   "execution_count": 11,
   "metadata": {},
   "outputs": [
    {
     "name": "stdout",
     "output_type": "stream",
     "text": [
      "1)  iii\n",
      "2)  iig\n",
      "3)  123\n",
      "4)  abc\n",
      "5)  piii\n",
      "6)  ii\n",
      "7)  1 2   3\n",
      "8)  12  3\n",
      "9)  123\n",
      "10)  foo\n",
      "11)  bar\n"
     ]
    }
   ],
   "source": [
    "print(\"1) \",re.search(r'iii', 'piiig').group()) # find iii\n",
    "print(\"2) \",re.search(r'..g', 'piiig').group()) # find any string end by g\n",
    "print(\"3) \",re.search(r'\\d\\d\\d', 'p123g').group()) # find 3 continuous numbers\n",
    "print(\"4) \",re.search(r'\\w\\w\\w', '@@abcd!!').group()) # find 3 continuous characters\n",
    "print(\"5) \",re.search(r'pi+', 'piiig').group()) # find any string starts from pi\n",
    "# for below statement it find ii and print ii but after ii if i detected continuous then print iii or iiii\n",
    "print(\"6) \",re.search(r'ii+', 'piigiiii').group()) \n",
    "# for below statement \\s means zero or more whitespaces\n",
    "print(\"7) \",re.search(r'\\d\\s*\\d\\s*\\d', 'xx1 2   3xx').group()) # find 1 spaces 2 spaces 3\n",
    "print(\"8) \",re.search(r'\\d\\s*\\d\\s*\\d', 'xx12  3xx').group()) # find 1 spaces 2 spaces 3\n",
    "print(\"9) \",re.search(r'\\d\\s*\\d\\s*\\d', 'xx123xx').group()) # find 1 spaces 2 spaces 3\n",
    "print(\"10) \",re.search(r'^f\\wo', 'foobar').group())\n",
    "print(\"11) \",re.search(r'b\\w+', 'foobar').group())"
   ]
  },
  {
   "cell_type": "code",
   "execution_count": 12,
   "metadata": {},
   "outputs": [
    {
     "name": "stdout",
     "output_type": "stream",
     "text": [
      "b@google\n"
     ]
    }
   ],
   "source": [
    "# email example\n",
    "str = 'purple alice-b@google.com monkey dishwasher'\n",
    "match = re.search(r'\\w+@\\w+', str)\n",
    "if match:\n",
    "    print(match.group())  ## 'b@google'"
   ]
  },
  {
   "cell_type": "code",
   "execution_count": 13,
   "metadata": {},
   "outputs": [
    {
     "name": "stdout",
     "output_type": "stream",
     "text": [
      "alice-b@google.com\n"
     ]
    }
   ],
   "source": [
    "# using the square brackets for grouping\n",
    "match = re.search(r'[\\w.-]+@[\\w.-]+', str)\n",
    "if match:\n",
    "    print(match.group())  ## 'alice-b@google.com'"
   ]
  },
  {
   "cell_type": "code",
   "execution_count": 14,
   "metadata": {},
   "outputs": [
    {
     "name": "stdout",
     "output_type": "stream",
     "text": [
      "alice-b@google.com\n",
      "alice-b\n",
      "google.com\n"
     ]
    }
   ],
   "source": [
    "# square brackets group extraction\n",
    "str = 'purple alice-b@google.com monkey dishwasher'\n",
    "match = re.search(r'([\\w.-]+)@([\\w.-]+)', str)\n",
    "if match:\n",
    "    print(match.group())   ## 'alice-b@google.com' (the whole match)\n",
    "    print(match.group(1))  ## 'alice-b' (the username, group 1)\n",
    "    print(match.group(2))  ## 'google.com' (the host, group 2)"
   ]
  },
  {
   "cell_type": "code",
   "execution_count": 15,
   "metadata": {},
   "outputs": [
    {
     "name": "stdout",
     "output_type": "stream",
     "text": [
      "alice@google.com\n",
      "bob@abc.com\n"
     ]
    }
   ],
   "source": [
    "# find all\n",
    "## Suppose we have a text with many email addresses\n",
    "str = 'purple alice@google.com, blah monkey bob@abc.com blah dishwasher'\n",
    "\n",
    "## Here re.findall() returns a list of all the found email strings\n",
    "emails = re.findall(r'[\\w\\.-]+@[\\w\\.-]+', str) ## ['alice@google.com', 'bob@abc.com']\n",
    "for email in emails:\n",
    "    # do something with each found email string\n",
    "    print(email)"
   ]
  },
  {
   "cell_type": "code",
   "execution_count": 16,
   "metadata": {},
   "outputs": [
    {
     "name": "stdout",
     "output_type": "stream",
     "text": [
      "[('alice', 'google.com'), ('bob', 'abc.com')]\n",
      "alice\n",
      "google.com\n",
      "bob\n",
      "abc.com\n"
     ]
    }
   ],
   "source": [
    "# find all and groups\n",
    "str = 'purple alice@google.com, blah monkey bob@abc.com blah dishwasher'\n",
    "tuples = re.findall(r'([\\w\\.-]+)@([\\w\\.-]+)', str)\n",
    "print(tuples)  ## [('alice', 'google.com'), ('bob', 'abc.com')]\n",
    "for tuple in tuples:\n",
    "    print(tuple[0])  ## username\n",
    "    print(tuple[1])  ## host"
   ]
  },
  {
   "cell_type": "code",
   "execution_count": 17,
   "metadata": {},
   "outputs": [
    {
     "name": "stdout",
     "output_type": "stream",
     "text": [
      "purple alice@yo-yo-dyne.com, blah monkey bob@yo-yo-dyne.com blah dishwasher\n"
     ]
    }
   ],
   "source": [
    "# substitution\n",
    "str = 'purple alice@google.com, blah monkey bob@abc.com blah dishwasher'\n",
    "## re.sub(pat, replacement, str) -- returns new string with all replacements,\n",
    "## \\1 is group(1), \\2 group(2) in the replacement\n",
    "print(re.sub(r'([\\w\\.-]+)@([\\w\\.-]+)', r'\\1@yo-yo-dyne.com', str))\n",
    "## purple alice@yo-yo-dyne.com, blah monkey bob@yo-yo-dyne.com blah dishwasher"
   ]
  },
  {
   "cell_type": "code",
   "execution_count": 18,
   "metadata": {},
   "outputs": [
    {
     "name": "stdout",
     "output_type": "stream",
     "text": [
      "class instance is created\n"
     ]
    }
   ],
   "source": [
    "class person:\n",
    "    def method(self):\n",
    "        print(\"this is method\")\n",
    "    def __init__(self):\n",
    "        print(\"class instance is created\")\n",
    "    def __del__(self):\n",
    "        print(\"class instance is destroyed\")\n",
    "c=person()"
   ]
  },
  {
   "cell_type": "code",
   "execution_count": 19,
   "metadata": {},
   "outputs": [
    {
     "name": "stdout",
     "output_type": "stream",
     "text": [
      "this is method\n"
     ]
    }
   ],
   "source": [
    "c.method()"
   ]
  },
  {
   "cell_type": "code",
   "execution_count": 20,
   "metadata": {},
   "outputs": [
    {
     "name": "stdout",
     "output_type": "stream",
     "text": [
      "class instance is destroyed\n"
     ]
    }
   ],
   "source": [
    "c.__del__()"
   ]
  },
  {
   "cell_type": "code",
   "execution_count": 21,
   "metadata": {},
   "outputs": [
    {
     "name": "stdout",
     "output_type": "stream",
     "text": [
      "this is method\n"
     ]
    }
   ],
   "source": [
    "c.method()"
   ]
  },
  {
   "cell_type": "code",
   "execution_count": 22,
   "metadata": {},
   "outputs": [],
   "source": [
    "class student:\n",
    "    def student(self):\n",
    "        print(\"this is student method of student class\")\n",
    "    def temp(self):\n",
    "        print(\"this is temp method of student class\")"
   ]
  },
  {
   "cell_type": "code",
   "execution_count": 23,
   "metadata": {},
   "outputs": [],
   "source": [
    "# inheritance\n",
    "class study(student):\n",
    "    def student(self):\n",
    "        print(\"this is student method of study class\")"
   ]
  },
  {
   "cell_type": "code",
   "execution_count": 24,
   "metadata": {},
   "outputs": [
    {
     "name": "stdout",
     "output_type": "stream",
     "text": [
      "this is temp method of student class\n",
      "this is student method of study class\n"
     ]
    }
   ],
   "source": [
    "y=study()\n",
    "y.temp() # parent class's temp will called\n",
    "y.student() # function overriding, self class student will called"
   ]
  },
  {
   "cell_type": "code",
   "execution_count": 25,
   "metadata": {},
   "outputs": [],
   "source": [
    "a = {\"vrushank\":22,\"avi\":44,\"masum\":67}"
   ]
  },
  {
   "cell_type": "code",
   "execution_count": 26,
   "metadata": {},
   "outputs": [
    {
     "data": {
      "text/plain": [
       "dict_keys(['vrushank', 'avi', 'masum'])"
      ]
     },
     "execution_count": 26,
     "metadata": {},
     "output_type": "execute_result"
    }
   ],
   "source": [
    "a.keys()"
   ]
  },
  {
   "cell_type": "code",
   "execution_count": 27,
   "metadata": {},
   "outputs": [
    {
     "name": "stdout",
     "output_type": "stream",
     "text": [
      "2\n",
      "5\n"
     ]
    }
   ],
   "source": [
    "# accessing globals\n",
    "a=3\n",
    "\n",
    "def vrushank():\n",
    "    a=2\n",
    "    globals()['a']=5\n",
    "    print(a)\n",
    "vrushank()\n",
    "print(a)\n"
   ]
  },
  {
   "cell_type": "code",
   "execution_count": 28,
   "metadata": {},
   "outputs": [
    {
     "name": "stdout",
     "output_type": "stream",
     "text": [
      "__main__\n",
      "__main__\n",
      "__main__\n",
      "__main__\n",
      "120\n"
     ]
    }
   ],
   "source": [
    "res=1\n",
    "def fact(n):\n",
    "    global res\n",
    "    if n>1:\n",
    "        res=n*fact(n-1)\n",
    "        print(__name__)\n",
    "        return res\n",
    "    else:\n",
    "        return 1\n",
    "print(fact(5))"
   ]
  },
  {
   "cell_type": "code",
   "execution_count": 29,
   "metadata": {},
   "outputs": [
    {
     "name": "stdout",
     "output_type": "stream",
     "text": [
      "name =  vrushank\n",
      "age  =  33\n",
      "city  =  ahmedabad\n",
      "name =  avi\n",
      "age  =  23\n",
      "address  =  aarav\n",
      "name =  vrushankpatel\n",
      "age  =  22\n"
     ]
    }
   ],
   "source": [
    "def per(name,**data):\n",
    "    print(\"name = \",name)\n",
    "    for i,j in data.items():\n",
    "        print(i,\" = \",j)\n",
    "per(name=\"vrushank\",age=33,city=\"ahmedabad\")\n",
    "per(name=\"avi\",age=23,address=\"aarav\")\n",
    "per(age=22,name=\"vrushankpatel\")"
   ]
  },
  {
   "cell_type": "code",
   "execution_count": 30,
   "metadata": {},
   "outputs": [
    {
     "data": {
      "text/plain": [
       "[0, 2, 4, 6, 8, 10, 12, 14]"
      ]
     },
     "execution_count": 30,
     "metadata": {},
     "output_type": "execute_result"
    }
   ],
   "source": [
    "# filter result by even or odd in range 0 to 16 by lambda expr.\n",
    "f=list(filter(lambda n:n%2==0,range(0,16)))\n",
    "f"
   ]
  },
  {
   "cell_type": "code",
   "execution_count": 31,
   "metadata": {},
   "outputs": [
    {
     "data": {
      "text/plain": [
       "[7, 8, 9, 10, 11, 12, 13, 14, 15, 16, 17, 18, 19, 20, 21]"
      ]
     },
     "execution_count": 31,
     "metadata": {},
     "output_type": "execute_result"
    }
   ],
   "source": [
    "# get list of all elements of list a by adding 6 to each by map\n",
    "a=[1,2,3,4,5,6,7,8,9,10,11,12,13,14,15]\n",
    "change = list(map(lambda n : n+6,a))\n",
    "change"
   ]
  },
  {
   "cell_type": "code",
   "execution_count": 32,
   "metadata": {},
   "outputs": [
    {
     "name": "stdout",
     "output_type": "stream",
     "text": [
      "Enter a : 23\n",
      "Enter b : 34\n",
      "Enter c : 45\n",
      "class instance is destroyed\n",
      "23\n"
     ]
    }
   ],
   "source": [
    "a = int(input(\"Enter a : \"))\n",
    "b = int(input(\"Enter b : \"))\n",
    "c = int(input(\"Enter c : \"))\n",
    "\n",
    "def sum2(a,b,c):\n",
    "    return sum(range(a,b+1,c))\n",
    "tt = sum2(a,b,c)\n",
    "print(tt)"
   ]
  },
  {
   "cell_type": "code",
   "execution_count": 33,
   "metadata": {},
   "outputs": [
    {
     "name": "stdout",
     "output_type": "stream",
     "text": [
      "1.5697802197802198\n"
     ]
    }
   ],
   "source": [
    "### make function where if i pass 3 then it return sum of 1 + 1/4 + 1/7\n",
    "### if i pass 5 then it return sum of 1 + 1/4 + 1/7 + 1/10 + 1/13\n",
    "\n",
    "#my program\n",
    "def series_sum(n):\n",
    "    sum = 0\n",
    "    counter = 1\n",
    "    for i in range(n):\n",
    "        sum = sum + (1/(counter))\n",
    "        counter+=3\n",
    "    return sum\n",
    "print(series_sum(5))\n",
    "\n",
    "#best solution\n",
    "def series_sum(n):\n",
    "    return '{:.2f}'.format(sum(1.0/(3 * i + 1) for i in range(n)))"
   ]
  },
  {
   "cell_type": "code",
   "execution_count": 34,
   "metadata": {},
   "outputs": [
    {
     "name": "stdout",
     "output_type": "stream",
     "text": [
      "str : vrushank\n",
      "str : patel\n"
     ]
    }
   ],
   "source": [
    "a = input(\"str : \")\n",
    "b = input(\"str : \")\n",
    "aa = list(a+b)\n",
    "aa.sort()"
   ]
  },
  {
   "cell_type": "code",
   "execution_count": 35,
   "metadata": {},
   "outputs": [
    {
     "data": {
      "text/plain": [
       "['a', 'a', 'e', 'h', 'k', 'l', 'n', 'p', 'r', 's', 't', 'u', 'v']"
      ]
     },
     "execution_count": 35,
     "metadata": {},
     "output_type": "execute_result"
    }
   ],
   "source": [
    "aa"
   ]
  },
  {
   "cell_type": "code",
   "execution_count": 36,
   "metadata": {},
   "outputs": [],
   "source": [
    "#make fun. that return join of two strings with sorting the characters \n",
    "#and removing the duplicate characters\n",
    "\n",
    "#my program\n",
    "def longest(s1, s2):\n",
    "    a = set()\n",
    "    for i in s1+s2:\n",
    "        a.add(i)\n",
    "    a = list(a)\n",
    "    a.sort()\n",
    "    t = ''\n",
    "    for i in a:\n",
    "        t+=i\n",
    "    return t\n",
    "\n",
    "#best result\n",
    "def longest(a1, a2):\n",
    "    return \"\".join(sorted(set(a1 + a2)))"
   ]
  },
  {
   "cell_type": "code",
   "execution_count": 37,
   "metadata": {},
   "outputs": [
    {
     "data": {
      "text/plain": [
       "'abcdloprv'"
      ]
     },
     "execution_count": 37,
     "metadata": {},
     "output_type": "execute_result"
    }
   ],
   "source": [
    "longest('vrp','acdbplo')"
   ]
  },
  {
   "cell_type": "code",
   "execution_count": 38,
   "metadata": {},
   "outputs": [
    {
     "name": "stdout",
     "output_type": "stream",
     "text": [
      "vrushank 2\n"
     ]
    }
   ],
   "source": [
    "class vrushank:\n",
    "    class aa:\n",
    "        def ff(self):\n",
    "            print(\"inned class\")\n",
    "            gg()\n",
    "        def gg(self):\n",
    "            print(\"vrushank 2\")\n",
    "    s=aa()\n",
    "    s.gg()\n",
    "u=vrushank()"
   ]
  },
  {
   "cell_type": "code",
   "execution_count": 39,
   "metadata": {},
   "outputs": [
    {
     "name": "stdout",
     "output_type": "stream",
     "text": [
      "2.5\n",
      "Byee\n"
     ]
    }
   ],
   "source": [
    "try:\n",
    "    print(5/2)\n",
    "except Exception as a:\n",
    "    print(a)\n",
    "    print(\"There is the error of divide by zero\")\n",
    "finally:\n",
    "    print(\"Byee\")"
   ]
  },
  {
   "cell_type": "code",
   "execution_count": 40,
   "metadata": {},
   "outputs": [
    {
     "name": "stdout",
     "output_type": "stream",
     "text": [
      "737387\n"
     ]
    }
   ],
   "source": [
    "# get random between specified range\n",
    "import random\n",
    "print(random.randrange(100000,1000000))"
   ]
  },
  {
   "cell_type": "code",
   "execution_count": 41,
   "metadata": {},
   "outputs": [
    {
     "name": "stdout",
     "output_type": "stream",
     "text": [
      "The hexadecimal equivalent of hash is : f1e069787ece74531d112559945c6871\n",
      "Hash is : b'\\xf1\\xe0ix~\\xcetS\\x1d\\x11%Y\\x94\\\\hq'\n"
     ]
    }
   ],
   "source": [
    "# MD5 encryption\n",
    "import hashlib \n",
    "  \n",
    "# initializing string \n",
    "str = \"GeeksforGeeks\"\n",
    "  \n",
    "# encoding GeeksforGeeks using encode() \n",
    "# then sending to md5() \n",
    "result = hashlib.md5(str.encode()) \n",
    "  \n",
    "# printing the equivalent hexadecimal value. \n",
    "print(\"The hexadecimal equivalent of hash is : \", end =\"\") \n",
    "print(result.hexdigest()) \n",
    "print(\"Hash is : \", end =\"\") \n",
    "print(result.digest())"
   ]
  },
  {
   "cell_type": "code",
   "execution_count": 42,
   "metadata": {},
   "outputs": [
    {
     "name": "stdout",
     "output_type": "stream",
     "text": [
      "p =  601190\n",
      "Enter value of q :vrushank\n",
      "hexdigest comparison of p & q is : False\n"
     ]
    }
   ],
   "source": [
    "# hexdigest md5 comparison\n",
    "import random\n",
    "p=random.randrange(100000,1000000)\n",
    "p = \"%s\"%p\n",
    "print(\"p = \",p)\n",
    "u = \"%s\"%input(\"Enter value of q :\")\n",
    "print(\"hexdigest comparison of p & q is : \",end=\"\")\n",
    "print(hashlib.md5(p.encode()).hexdigest() == hashlib.md5(u.encode()).hexdigest())\n"
   ]
  },
  {
   "cell_type": "code",
   "execution_count": 43,
   "metadata": {},
   "outputs": [
    {
     "data": {
      "text/plain": [
       "'6209bf4d253f6ebee921e27ead3d173f'"
      ]
     },
     "execution_count": 43,
     "metadata": {},
     "output_type": "execute_result"
    }
   ],
   "source": [
    "hashlib.md5((\"%s\" % 277324).encode()).hexdigest()"
   ]
  },
  {
   "cell_type": "code",
   "execution_count": 44,
   "metadata": {},
   "outputs": [
    {
     "data": {
      "text/plain": [
       "b'B3\\x17\\xd1\\xc8'"
      ]
     },
     "execution_count": 44,
     "metadata": {},
     "output_type": "execute_result"
    }
   ],
   "source": [
    "# RC4 encryption\n",
    "from arc4 import ARC4\n",
    "\n",
    "arc4 = ARC4('Vrushank')\n",
    "cipher = arc4.encrypt('Patel')\n",
    "cipher"
   ]
  },
  {
   "cell_type": "code",
   "execution_count": null,
   "metadata": {},
   "outputs": [],
   "source": []
  }
 ],
 "metadata": {
  "kernelspec": {
   "display_name": "Python 3",
   "language": "python",
   "name": "python3"
  },
  "language_info": {
   "codemirror_mode": {
    "name": "ipython",
    "version": 3
   },
   "file_extension": ".py",
   "mimetype": "text/x-python",
   "name": "python",
   "nbconvert_exporter": "python",
   "pygments_lexer": "ipython3",
   "version": "3.7.0"
  }
 },
 "nbformat": 4,
 "nbformat_minor": 2
}
